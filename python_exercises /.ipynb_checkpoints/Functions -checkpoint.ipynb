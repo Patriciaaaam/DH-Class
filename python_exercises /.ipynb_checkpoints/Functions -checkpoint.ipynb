{
 "cells": [
  {
   "cell_type": "markdown",
   "id": "ca440a91",
   "metadata": {},
   "source": [
    "# Functions"
   ]
  },
  {
   "cell_type": "code",
   "execution_count": 1,
   "id": "503e48b5",
   "metadata": {},
   "outputs": [],
   "source": [
    "# basic example\n",
    "def say_hello():\n",
    "    \"\"\"Display a greeting\"\"\"\n",
    "    print(\"Hello.\")"
   ]
  },
  {
   "cell_type": "code",
   "execution_count": 2,
   "id": "e4c88d39",
   "metadata": {},
   "outputs": [
    {
     "name": "stdout",
     "output_type": "stream",
     "text": [
      "Hello.\n"
     ]
    }
   ],
   "source": [
    "say_hello()"
   ]
  },
  {
   "cell_type": "code",
   "execution_count": 4,
   "id": "95731434",
   "metadata": {},
   "outputs": [],
   "source": [
    "def say_hello_name(name):\n",
    "    \"\"\"Greet by name\"\"\"\n",
    "    print(f\"Hello, {name}!\")\n"
   ]
  },
  {
   "cell_type": "code",
   "execution_count": 9,
   "id": "6bba1f0b",
   "metadata": {},
   "outputs": [
    {
     "name": "stdout",
     "output_type": "stream",
     "text": [
      "Hello, Patricia!\n"
     ]
    }
   ],
   "source": [
    "say_hello_name('Patricia')"
   ]
  },
  {
   "cell_type": "code",
   "execution_count": 10,
   "id": "55cba3d6",
   "metadata": {},
   "outputs": [],
   "source": [
    "names= [\"Assha\", \"Alondra\", \"Giselle\"]"
   ]
  },
  {
   "cell_type": "code",
   "execution_count": 11,
   "id": "f1617db3",
   "metadata": {},
   "outputs": [
    {
     "name": "stdout",
     "output_type": "stream",
     "text": [
      "Hello, Assha!\n",
      "Hello, Alondra!\n",
      "Hello, Giselle!\n"
     ]
    }
   ],
   "source": [
    "for name in names:\n",
    "    say_hello_name(name)"
   ]
  },
  {
   "cell_type": "code",
   "execution_count": 14,
   "id": "59a644e2",
   "metadata": {},
   "outputs": [],
   "source": [
    "def describe_artist(name,genre):\n",
    "    '''Describe an artist by genre'''\n",
    "    print(f\"{name.title()} sings {genre}. \")"
   ]
  },
  {
   "cell_type": "code",
   "execution_count": null,
   "id": "35fc0463",
   "metadata": {},
   "outputs": [],
   "source": []
  }
 ],
 "metadata": {
  "kernelspec": {
   "display_name": "Python 3 (ipykernel)",
   "language": "python",
   "name": "python3"
  },
  "language_info": {
   "codemirror_mode": {
    "name": "ipython",
    "version": 3
   },
   "file_extension": ".py",
   "mimetype": "text/x-python",
   "name": "python",
   "nbconvert_exporter": "python",
   "pygments_lexer": "ipython3",
   "version": "3.11.4"
  }
 },
 "nbformat": 4,
 "nbformat_minor": 5
}
