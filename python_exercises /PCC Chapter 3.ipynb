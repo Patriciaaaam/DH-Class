{
 "cells": [
  {
   "cell_type": "markdown",
   "id": "254fc7e1",
   "metadata": {},
   "source": [
    "### 3-1"
   ]
  },
  {
   "cell_type": "code",
   "execution_count": 5,
   "id": "2c105f8c",
   "metadata": {},
   "outputs": [
    {
     "name": "stdout",
     "output_type": "stream",
     "text": [
      "Assha\n",
      "Alondra\n",
      "Tyleia\n",
      "Giselle\n",
      "Rosio\n",
      "Yvette\n"
     ]
    }
   ],
   "source": [
    "name= ['Assha', 'Alondra', 'Tyleia', 'Giselle', 'Rosio', 'Yvette']\n",
    "print (name [0])\n",
    "print (name[1])\n",
    "print (name[2])\n",
    "print (name [3])\n",
    "print (name [4])\n",
    "print (name[5])"
   ]
  },
  {
   "cell_type": "markdown",
   "id": "009d60cb",
   "metadata": {},
   "source": [
    "### 3-2"
   ]
  },
  {
   "cell_type": "code",
   "execution_count": 6,
   "id": "f53fb072",
   "metadata": {},
   "outputs": [
    {
     "name": "stdout",
     "output_type": "stream",
     "text": [
      "Assha is so cool\n"
     ]
    }
   ],
   "source": [
    "print (name[0], \"is so cool\")"
   ]
  },
  {
   "cell_type": "code",
   "execution_count": 8,
   "id": "ebf4b2ba",
   "metadata": {},
   "outputs": [
    {
     "name": "stdout",
     "output_type": "stream",
     "text": [
      "Alondra is so cool\n"
     ]
    }
   ],
   "source": [
    "print (name[1], \"is so cool\")"
   ]
  },
  {
   "cell_type": "code",
   "execution_count": 10,
   "id": "16f4dea0",
   "metadata": {},
   "outputs": [
    {
     "name": "stdout",
     "output_type": "stream",
     "text": [
      "Tyleia is so cool\n"
     ]
    }
   ],
   "source": [
    "print (name [2], \"is so cool\")"
   ]
  },
  {
   "cell_type": "code",
   "execution_count": 11,
   "id": "f1cbdec1",
   "metadata": {},
   "outputs": [
    {
     "name": "stdout",
     "output_type": "stream",
     "text": [
      "Giselle is so cool\n"
     ]
    }
   ],
   "source": [
    "print (name[3], \"is so cool\")"
   ]
  },
  {
   "cell_type": "code",
   "execution_count": 12,
   "id": "ad16130a",
   "metadata": {},
   "outputs": [
    {
     "name": "stdout",
     "output_type": "stream",
     "text": [
      "Rosio is so cool\n"
     ]
    }
   ],
   "source": [
    "print (name[4], \"is so cool\")"
   ]
  },
  {
   "cell_type": "code",
   "execution_count": 13,
   "id": "634747ca",
   "metadata": {},
   "outputs": [
    {
     "name": "stdout",
     "output_type": "stream",
     "text": [
      "Yvette is so cool\n"
     ]
    }
   ],
   "source": [
    "print (name [5], \"is so cool\")"
   ]
  },
  {
   "cell_type": "markdown",
   "id": "9f6eb939",
   "metadata": {},
   "source": [
    "### 3-3"
   ]
  },
  {
   "cell_type": "code",
   "execution_count": 26,
   "id": "5eb4d839",
   "metadata": {},
   "outputs": [
    {
     "name": "stdout",
     "output_type": "stream",
     "text": [
      "I love the 6 train because it is close to my home.\n",
      "The 4 train is always dirty.\n",
      "Although it meet up with the two train, the 5 train still sucks.\n"
     ]
    }
   ],
   "source": [
    "Transport = ['6 train', '4 train', '5 train',]\n",
    "print (\"I love the\", Transport[0], \"because it is close to my home.\")\n",
    "print(\"The\", Transport[1], \"is always dirty.\")\n",
    "print(\"Although it meet up with the two train, the\", Transport[2] ,\"still sucks.\")\n"
   ]
  },
  {
   "cell_type": "markdown",
   "id": "438bbcca",
   "metadata": {},
   "source": [
    "### 3-4"
   ]
  },
  {
   "cell_type": "code",
   "execution_count": 33,
   "id": "14c9e89d",
   "metadata": {},
   "outputs": [
    {
     "name": "stdout",
     "output_type": "stream",
     "text": [
      "Jermaine Cole, would you like to have dinner with Nipsey Hussle, Tupac and I?\n",
      "\n",
      "\n",
      "Tupac Shakur, would you like to have dinner with Nipsey Hussle, J.cole and I?\n",
      "\n",
      "\n",
      "Micheal Jackson, would you like to have dinner with Tupac, J.cole and I?\n",
      "\n",
      "\n",
      "Nipsey Hussle\n",
      "\n",
      "\n",
      "Unfortunately Nipsey can't make it, MJ will be joining us instead.Can you still make it  Jermaine Cole, ?\n",
      "\n",
      "\n",
      "Unfortunately Nipsey can't make it, MJ will be joining us instead. Can you still make it Tupac Shakur, ?\n",
      "\n",
      "\n",
      "Unfortunately Nipsey can't make it, MJ will be joining us instead. Can you still make it, Micheal Jackson, ?\n"
     ]
    }
   ],
   "source": [
    "invite= [\"Jermaine Cole,\", \"Tupac Shakur,\", \"Micheal Jackson,\"]\n",
    "print( invite[0],\"would you like to have dinner with Nipsey Hussle, Tupac and I?\")\n",
    "print (\"\\n\")\n",
    "print(invite[1], \"would you like to have dinner with Nipsey Hussle, J.cole and I?\")\n",
    "print(\"\\n\")\n",
    "print (invite [2], \"would you like to have dinner with Tupac, J.cole and I?\")\n",
    "print (\"\\n\")\n",
    "\n",
    "\n",
    "\n",
    "print(\"Nipsey Hussle\")\n",
    "\n",
    "\n",
    "print (\"\\n\")\n",
    "\n",
    "print( \"Unfortunately Nipsey can't make it, MJ will be joining us instead.Can you still make it \" ,invite[0], \"?\" )\n",
    "print (\"\\n\")\n",
    "print (\"Unfortunately Nipsey can't make it, MJ will be joining us instead. Can you still make it\" ,invite[1], \"?\" )\n",
    "print (\"\\n\")\n",
    "print (\"Unfortunately Nipsey can't make it, MJ will be joining us instead. Can you still make it\" ,invite[2], \"?\")"
   ]
  },
  {
   "cell_type": "markdown",
   "id": "3ec9aa7b",
   "metadata": {},
   "source": [
    "### 3-6"
   ]
  },
  {
   "cell_type": "code",
   "execution_count": 57,
   "id": "ae78e18b",
   "metadata": {},
   "outputs": [
    {
     "name": "stdout",
     "output_type": "stream",
     "text": [
      "Unfortunately Nipsey can't make it, MJ will be joining us instead.Can you still make it  Lauryn Hill ?\n",
      "\n",
      "\n",
      "Unfortunately Nipsey can't make it, MJ will be joining us instead. Can you still make it Jermaine Cole, ?\n",
      "\n",
      "\n",
      "Unfortunately Nipsey can't make it, MJ will be joining us instead. Can you still make it kendrick Lamar ?\n",
      "\n",
      "\n",
      "['Lauryn Hill', 'Jermaine Cole,', 'kendrick Lamar', 'Tupac Shakur,', 'Micheal Jackson,', 'Aaliyah']\n"
     ]
    }
   ],
   "source": [
    "print( \"Unfortunately Nipsey can't make it, MJ will be joining us instead.Can you still make it \" ,invite[0], \"?\" )\n",
    "print (\"\\n\")\n",
    "print (\"Unfortunately Nipsey can't make it, MJ will be joining us instead. Can you still make it\" ,invite[1], \"?\" )\n",
    "print (\"\\n\")\n",
    "print (\"Unfortunately Nipsey can't make it, MJ will be joining us instead. Can you still make it\" ,invite[2], \"?\")\n",
    "print(\"\\n\")\n",
    "\n",
    "invite= [\"Jermaine Cole,\", \"Tupac Shakur,\", \"Micheal Jackson,\"]\n",
    "invite.insert(0,'Lauryn Hill')\n",
    "invite.insert(2, 'kendrick Lamar')\n",
    "invite.insert(5, 'Aaliyah')\n",
    "print(invite)\n"
   ]
  },
  {
   "cell_type": "markdown",
   "id": "f2540007",
   "metadata": {},
   "source": [
    "### 3-7"
   ]
  },
  {
   "cell_type": "code",
   "execution_count": 53,
   "id": "0041437c",
   "metadata": {},
   "outputs": [
    {
     "name": "stdout",
     "output_type": "stream",
     "text": [
      "\n",
      "\n",
      "['Jermaine Cole,', 'kendrick Lamar']\n",
      "\n",
      "\n",
      "Jermaine Cole, my dinner table will not come on time, however you're still invited!\n",
      "kendrick Lamar my dinner table will not come on time, however you're still invited!\n",
      "\n",
      "\n",
      "['kendrick Lamar']\n",
      "[]\n"
     ]
    }
   ],
   "source": [
    "remove = ['Lauryn Hill', 'Jermaine Cole,', 'kendrick Lamar', 'Tupac Shakur,', 'Micheal Jackson,', 'Aaliyah']\n",
    "remove.pop(0)\n",
    "remove.pop(3)\n",
    "print (\"\\n\")\n",
    "\n",
    "remove.pop(2)\n",
    "remove.pop(2)\n",
    "print (remove)\n",
    "print (\"\\n\")\n",
    "\n",
    "print (remove[0], \"my dinner table will not come on time, however you're still invited!\")\n",
    "print (remove[1], \"my dinner table will not come on time, however you're still invited!\")\n",
    "\n",
    "print(\"\\n\")\n",
    "\n",
    "del remove[0]\n",
    "print (remove)\n",
    "\n",
    "del remove[0]\n",
    "print (remove)\n",
    "\n"
   ]
  },
  {
   "cell_type": "markdown",
   "id": "9dc899ec",
   "metadata": {},
   "source": [
    "### 3-8"
   ]
  },
  {
   "cell_type": "code",
   "execution_count": 55,
   "id": "5925de9a",
   "metadata": {},
   "outputs": [
    {
     "name": "stdout",
     "output_type": "stream",
     "text": [
      "['Jamaica', 'South Africa', 'Honduras', 'Domincan Republic', 'Mexico']\n"
     ]
    }
   ],
   "source": [
    "travel =[\"Jamaica\", \"South Africa\", \"Honduras\", \"Domincan Republic\", \"Mexico\"]\n",
    "print (travel)"
   ]
  },
  {
   "cell_type": "code",
   "execution_count": 68,
   "id": "3bbef80f",
   "metadata": {},
   "outputs": [
    {
     "data": {
      "text/plain": [
       "['Domincan Republic', 'Honduras', 'Jamaica', 'Mexico', 'South Africa']"
      ]
     },
     "execution_count": 68,
     "metadata": {},
     "output_type": "execute_result"
    }
   ],
   "source": [
    "sorted(travel)"
   ]
  },
  {
   "cell_type": "code",
   "execution_count": 63,
   "id": "9c4e38b0",
   "metadata": {},
   "outputs": [
    {
     "name": "stdout",
     "output_type": "stream",
     "text": [
      "['Jamaica', 'South Africa', 'Honduras', 'Domincan Republic', 'Mexico']\n"
     ]
    }
   ],
   "source": [
    "print(travel)"
   ]
  },
  {
   "cell_type": "code",
   "execution_count": 78,
   "id": "176ccecc",
   "metadata": {},
   "outputs": [
    {
     "name": "stdout",
     "output_type": "stream",
     "text": [
      "['South Africa', 'Mexico', 'Jamaica', 'Honduras', 'Domincan Republic']\n",
      "['Domincan Republic', 'Honduras', 'Jamaica', 'Mexico', 'South Africa']\n",
      "['Domincan Republic', 'Honduras', 'Jamaica', 'Mexico', 'South Africa']\n"
     ]
    }
   ],
   "source": [
    "travel.reverse()\n",
    "\n",
    "print(travel)\n",
    "\n",
    "travel.reverse()\n",
    "print (travel)\n"
   ]
  },
  {
   "cell_type": "code",
   "execution_count": 89,
   "id": "e6d7fd3f",
   "metadata": {},
   "outputs": [
    {
     "name": "stdout",
     "output_type": "stream",
     "text": [
      "['Domincan Republic', 'Honduras', 'Jamaica', 'Mexico', 'South Africa']\n",
      "['South Africa', 'Mexico', 'Jamaica', 'Honduras', 'Domincan Republic']\n"
     ]
    }
   ],
   "source": [
    "travel.sort()\n",
    "print(travel)\n",
    "\n",
    "travel.sort(reverse = True)\n",
    "print (travel)\n"
   ]
  },
  {
   "cell_type": "code",
   "execution_count": null,
   "id": "6a608503",
   "metadata": {},
   "outputs": [],
   "source": []
  }
 ],
 "metadata": {
  "kernelspec": {
   "display_name": "Python 3 (ipykernel)",
   "language": "python",
   "name": "python3"
  },
  "language_info": {
   "codemirror_mode": {
    "name": "ipython",
    "version": 3
   },
   "file_extension": ".py",
   "mimetype": "text/x-python",
   "name": "python",
   "nbconvert_exporter": "python",
   "pygments_lexer": "ipython3",
   "version": "3.11.4"
  }
 },
 "nbformat": 4,
 "nbformat_minor": 5
}
