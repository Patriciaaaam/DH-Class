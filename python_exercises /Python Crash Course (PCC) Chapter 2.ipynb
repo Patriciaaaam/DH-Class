{
 "cells": [
  {
   "cell_type": "markdown",
   "id": "63a311c9",
   "metadata": {},
   "source": [
    "#Chapter Two Homework"
   ]
  },
  {
   "cell_type": "markdown",
   "id": "66a3178b",
   "metadata": {},
   "source": [
    "# Chapter Two Homework"
   ]
  },
  {
   "cell_type": "code",
   "execution_count": 1,
   "id": "ed4e8612",
   "metadata": {},
   "outputs": [
    {
     "name": "stdout",
     "output_type": "stream",
     "text": [
      "I miss my parakeets\n"
     ]
    }
   ],
   "source": [
    "message = 'I miss my parakeets'\n",
    "print (message)"
   ]
  },
  {
   "cell_type": "markdown",
   "id": "27a17708",
   "metadata": {},
   "source": [
    "### 2-2"
   ]
  },
  {
   "cell_type": "code",
   "execution_count": 1,
   "id": "1269bcb7",
   "metadata": {},
   "outputs": [
    {
     "name": "stdout",
     "output_type": "stream",
     "text": [
      "I can't wait to go home\n"
     ]
    }
   ],
   "source": [
    "frog = \"I can't wait to go home\"\n",
    "print (frog)"
   ]
  },
  {
   "cell_type": "code",
   "execution_count": 2,
   "id": "0a558167",
   "metadata": {},
   "outputs": [
    {
     "name": "stdout",
     "output_type": "stream",
     "text": [
      "So that I can see my friends\n"
     ]
    }
   ],
   "source": [
    "frog= \"So that I can see my friends\"\n",
    "print (frog)"
   ]
  },
  {
   "cell_type": "markdown",
   "id": "8e6c6496",
   "metadata": {},
   "source": [
    "### 2-3"
   ]
  },
  {
   "cell_type": "code",
   "execution_count": 81,
   "id": "fd941181",
   "metadata": {},
   "outputs": [
    {
     "ename": "SyntaxError",
     "evalue": "invalid syntax. Perhaps you forgot a comma? (2465987197.py, line 2)",
     "output_type": "error",
     "traceback": [
      "\u001b[0;36m  Cell \u001b[0;32mIn[81], line 2\u001b[0;36m\u001b[0m\n\u001b[0;31m    print( \"Hey\" Cats \"would you like to learn some phyton today\")\u001b[0m\n\u001b[0m           ^\u001b[0m\n\u001b[0;31mSyntaxError\u001b[0m\u001b[0;31m:\u001b[0m invalid syntax. Perhaps you forgot a comma?\n"
     ]
    }
   ],
   "source": [
    "Cats = \"Esther\"\n",
    "print( \"Hey\" Cats \"would you like to learn some phyton today\")"
   ]
  },
  {
   "cell_type": "markdown",
   "id": "c965180d",
   "metadata": {},
   "source": [
    "### 2-4"
   ]
  },
  {
   "cell_type": "code",
   "execution_count": 49,
   "id": "0f398413",
   "metadata": {},
   "outputs": [
    {
     "name": "stdout",
     "output_type": "stream",
     "text": [
      "Yeshi Martinez\n",
      "YESHI MARTINEZ\n",
      "yeshi martinez\n"
     ]
    }
   ],
   "source": [
    "Pooh = \"Yeshi Martinez\"\n",
    "print(Pooh)\n",
    "print (Pooh.upper())\n",
    "print (Pooh.lower())\n"
   ]
  },
  {
   "cell_type": "markdown",
   "id": "aecdeab9",
   "metadata": {},
   "source": [
    "### 2-6"
   ]
  },
  {
   "cell_type": "code",
   "execution_count": 5,
   "id": "e5d5a8fb",
   "metadata": {},
   "outputs": [
    {
     "name": "stdout",
     "output_type": "stream",
     "text": [
      "Jermaine Cole once said, \"We aint picture perfect but we worth the picture still\"\n"
     ]
    }
   ],
   "source": [
    "famous_person = \"Jermaine Cole once said,\"\n",
    "\n",
    "message= '\"We aint picture perfect but we worth the picture still\"'\n",
    "\n",
    "print (famous_person, message)\n"
   ]
  },
  {
   "cell_type": "markdown",
   "id": "6c74fc4e",
   "metadata": {},
   "source": [
    "### 2-5"
   ]
  },
  {
   "cell_type": "code",
   "execution_count": 6,
   "id": "77c283cd",
   "metadata": {},
   "outputs": [
    {
     "name": "stdout",
     "output_type": "stream",
     "text": [
      "Jermaine Cole once said, \"we aint picture perfect but we worth the picture still\" \n"
     ]
    }
   ],
   "source": [
    "Ilovejcole= 'Jermaine Cole once said, \"we aint picture perfect but we worth the picture still\" '\n",
    "print (Ilovejcole)"
   ]
  },
  {
   "cell_type": "markdown",
   "id": "d4374cc7",
   "metadata": {},
   "source": [
    "### 2-7"
   ]
  },
  {
   "cell_type": "code",
   "execution_count": 27,
   "id": "97ddfe18",
   "metadata": {},
   "outputs": [
    {
     "name": "stdout",
     "output_type": "stream",
     "text": [
      "Tyleia Maple\n",
      "Tyleia\tMaple\n",
      "\n",
      "\n",
      "Tyleia\n",
      "Maple\n"
     ]
    }
   ],
   "source": [
    "print (\"Tyleia Maple\")\n",
    "print (\"Tyleia\\tMaple\")\n",
    "print (\"\\n\")\n",
    "print (\"Tyleia\\nMaple\")\n"
   ]
  },
  {
   "cell_type": "markdown",
   "id": "09a33ab5",
   "metadata": {},
   "source": [
    "### 2-7 part 2"
   ]
  },
  {
   "cell_type": "code",
   "execution_count": 34,
   "id": "d7528eaf",
   "metadata": {},
   "outputs": [
    {
     "name": "stdout",
     "output_type": "stream",
     "text": [
      "Tyleia Maple is so cool\n",
      "Tyleia Maple is so smart\n",
      "Tyleia Maple is so funny\n"
     ]
    }
   ],
   "source": [
    "bunny = \"Tyleia Maple\"\n",
    "x= bunny.lstrip()\n",
    "print ( x, \"is so cool\")\n",
    "\n",
    "x= bunny.rstrip()\n",
    "print ( x, \"is so smart\")\n",
    "\n",
    "x= bunny.strip()\n",
    "print (x, \"is so funny\")"
   ]
  },
  {
   "cell_type": "code",
   "execution_count": null,
   "id": "2950864d",
   "metadata": {},
   "outputs": [],
   "source": []
  }
 ],
 "metadata": {
  "kernelspec": {
   "display_name": "Python 3 (ipykernel)",
   "language": "python",
   "name": "python3"
  },
  "language_info": {
   "codemirror_mode": {
    "name": "ipython",
    "version": 3
   },
   "file_extension": ".py",
   "mimetype": "text/x-python",
   "name": "python",
   "nbconvert_exporter": "python",
   "pygments_lexer": "ipython3",
   "version": "3.11.4"
  }
 },
 "nbformat": 4,
 "nbformat_minor": 5
}
