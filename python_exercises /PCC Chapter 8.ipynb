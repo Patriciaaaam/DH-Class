{
 "cells": [
  {
   "cell_type": "markdown",
   "id": "b7c577b4",
   "metadata": {},
   "source": [
    "## 8-1"
   ]
  },
  {
   "cell_type": "code",
   "execution_count": 22,
   "id": "544ada25",
   "metadata": {},
   "outputs": [],
   "source": [
    "def display_message(message):\n",
    "    \"\"\"Display what I learned\"\"\"\n",
    "    print(f\"In this chapter I've learned about {message}\")\n",
    "    "
   ]
  },
  {
   "cell_type": "code",
   "execution_count": 23,
   "id": "05b03f73",
   "metadata": {},
   "outputs": [],
   "source": [
    "messages= ['defining a function', 'passing information', 'and arguments']"
   ]
  },
  {
   "cell_type": "code",
   "execution_count": 24,
   "id": "e5dbcd9a",
   "metadata": {},
   "outputs": [
    {
     "name": "stdout",
     "output_type": "stream",
     "text": [
      "In this chapter I've learned about defining a function\n",
      "In this chapter I've learned about passing information\n",
      "In this chapter I've learned about and arguments\n"
     ]
    }
   ],
   "source": [
    "for message in messages:\n",
    "    display_message(message)"
   ]
  },
  {
   "cell_type": "markdown",
   "id": "2a115f89",
   "metadata": {},
   "source": [
    "# OR\n"
   ]
  },
  {
   "cell_type": "code",
   "execution_count": 27,
   "id": "95bd5766",
   "metadata": {},
   "outputs": [],
   "source": [
    "def display_message(message):\n",
    "    \"\"\"Display what I learned\"\"\"\n",
    "    print(\"In this chapter I've learned about defining a function, passing information and arguments.\")"
   ]
  },
  {
   "cell_type": "code",
   "execution_count": 28,
   "id": "07b4bee0",
   "metadata": {},
   "outputs": [
    {
     "name": "stdout",
     "output_type": "stream",
     "text": [
      "In this chapter I've learned about defining a function, passing information and arguments.\n"
     ]
    }
   ],
   "source": [
    "display_message(message)"
   ]
  },
  {
   "cell_type": "markdown",
   "id": "56b1b849",
   "metadata": {},
   "source": [
    "## 8-2"
   ]
  },
  {
   "cell_type": "code",
   "execution_count": 37,
   "id": "80e32f55",
   "metadata": {},
   "outputs": [],
   "source": [
    "def favorite_book(title):\n",
    "    '''favoirte books here'''\n",
    "    print(f\"one of my favorite books is {title}\")\n",
    "    "
   ]
  },
  {
   "cell_type": "code",
   "execution_count": 35,
   "id": "a6f5594d",
   "metadata": {},
   "outputs": [],
   "source": [
    "book_titles= ['Alice in Wonderland', 'The Hate You Give', 'Sad Perfect']"
   ]
  },
  {
   "cell_type": "code",
   "execution_count": 38,
   "id": "0ecec38e",
   "metadata": {},
   "outputs": [
    {
     "name": "stdout",
     "output_type": "stream",
     "text": [
      "one of my favorite books is Alice in Wonderland\n",
      "one of my favorite books is The Hate You Give\n",
      "one of my favorite books is Sad Perfect\n"
     ]
    }
   ],
   "source": [
    "for title in book_titles:\n",
    "    favorite_book(title)"
   ]
  },
  {
   "cell_type": "markdown",
   "id": "c708ee0a",
   "metadata": {},
   "source": [
    "## 8-3"
   ]
  },
  {
   "cell_type": "code",
   "execution_count": 52,
   "id": "f953917c",
   "metadata": {},
   "outputs": [],
   "source": [
    "def make_shirt(size,message):\n",
    "    '''shirt size and message'''\n",
    "    print(f'the shirt size {size.title()} has the message{message}.')\n",
    "    "
   ]
  },
  {
   "cell_type": "markdown",
   "id": "699d76c4",
   "metadata": {},
   "source": [
    "#### positional argument"
   ]
  },
  {
   "cell_type": "code",
   "execution_count": 55,
   "id": "144c7570",
   "metadata": {},
   "outputs": [
    {
     "name": "stdout",
     "output_type": "stream",
     "text": [
      "the shirt size 6 has the message I love J.cole.\n"
     ]
    }
   ],
   "source": [
    "make_shirt(size= '6', message= ' I love J.cole')"
   ]
  },
  {
   "cell_type": "markdown",
   "id": "9c948a5d",
   "metadata": {},
   "source": [
    "##### keyword arguments"
   ]
  },
  {
   "cell_type": "code",
   "execution_count": 54,
   "id": "9e1687e3",
   "metadata": {},
   "outputs": [
    {
     "name": "stdout",
     "output_type": "stream",
     "text": [
      "the shirt size 6 has the message I love J.cole.\n"
     ]
    }
   ],
   "source": [
    "make_shirt (\"6\", \" I love J.cole\")"
   ]
  },
  {
   "cell_type": "markdown",
   "id": "350941e2",
   "metadata": {},
   "source": [
    "## 8-5"
   ]
  },
  {
   "cell_type": "code",
   "execution_count": 20,
   "id": "5c9f53fc",
   "metadata": {},
   "outputs": [],
   "source": [
    "def describe_city(city, country):\n",
    "    '''describing cities'''\n",
    "    print(f\" the city of {city.title()} is in {country}. \")"
   ]
  },
  {
   "cell_type": "code",
   "execution_count": 22,
   "id": "7ee4f97c",
   "metadata": {},
   "outputs": [
    {
     "name": "stdout",
     "output_type": "stream",
     "text": [
      " the city of The Bronx is in  The United States. \n"
     ]
    }
   ],
   "source": [
    "describe_city( \"The Bronx\", \" The United States\")"
   ]
  },
  {
   "cell_type": "code",
   "execution_count": 26,
   "id": "047bbe91",
   "metadata": {},
   "outputs": [
    {
     "name": "stdout",
     "output_type": "stream",
     "text": [
      " the city of San Francisco is in The United States. \n"
     ]
    }
   ],
   "source": [
    "describe_city(\"San Francisco\", \"The United States\")"
   ]
  },
  {
   "cell_type": "code",
   "execution_count": 25,
   "id": "a943f405",
   "metadata": {},
   "outputs": [
    {
     "name": "stdout",
     "output_type": "stream",
     "text": [
      " the city of Accra is in The United States. \n"
     ]
    }
   ],
   "source": [
    "describe_city ('Accra', 'The United States')"
   ]
  },
  {
   "cell_type": "markdown",
   "id": "423de3db",
   "metadata": {},
   "source": [
    "## 8-6"
   ]
  },
  {
   "cell_type": "code",
   "execution_count": 56,
   "id": "0bfb3169",
   "metadata": {},
   "outputs": [],
   "source": [
    "def city_country(city,country):\n",
    "    location = f\" {city}, {country}\"\n",
    "    return location"
   ]
  },
  {
   "cell_type": "code",
   "execution_count": 74,
   "id": "dc681109",
   "metadata": {},
   "outputs": [],
   "source": [
    "ubicacion= {'cities' : 'city', 'countries':'country' }"
   ]
  },
  {
   "cell_type": "code",
   "execution_count": 79,
   "id": "ed39dd39",
   "metadata": {
    "scrolled": true
   },
   "outputs": [
    {
     "data": {
      "text/plain": [
       "' The Bronx, United States'"
      ]
     },
     "execution_count": 79,
     "metadata": {},
     "output_type": "execute_result"
    }
   ],
   "source": [
    "New_York = city_country ('The Bronx', 'United States')\n",
    "\n",
    "New_York"
   ]
  },
  {
   "cell_type": "code",
   "execution_count": 80,
   "id": "c8ee0941",
   "metadata": {},
   "outputs": [
    {
     "data": {
      "text/plain": [
       "' Paris, France'"
      ]
     },
     "execution_count": 80,
     "metadata": {},
     "output_type": "execute_result"
    }
   ],
   "source": [
    "Francen = city_country('Paris', 'France')\n",
    "Francen"
   ]
  },
  {
   "cell_type": "code",
   "execution_count": 81,
   "id": "4b7c24e6",
   "metadata": {},
   "outputs": [
    {
     "data": {
      "text/plain": [
       "' Seoul, Korea'"
      ]
     },
     "execution_count": 81,
     "metadata": {},
     "output_type": "execute_result"
    }
   ],
   "source": [
    "Seoull= city_country(\"Seoul\", \"Korea\")\n",
    "Seoull"
   ]
  },
  {
   "cell_type": "markdown",
   "id": "ebc3b22b",
   "metadata": {},
   "source": [
    "## 8-7"
   ]
  },
  {
   "cell_type": "code",
   "execution_count": 19,
   "id": "df566660",
   "metadata": {},
   "outputs": [],
   "source": [
    "def make_albums(artist_name, album_title, song=None):\n",
    "    '''pairing artists with album'''\n",
    "    full_album = f\" {artist_name} {album_title}\"\n",
    "    return full_album"
   ]
  },
  {
   "cell_type": "code",
   "execution_count": 20,
   "id": "722a1615",
   "metadata": {},
   "outputs": [
    {
     "name": "stdout",
     "output_type": "stream",
     "text": [
      " J.cole KOD\n",
      " J.cole 2014 Forest Hills Drive\n",
      " J.cole Born Sinner\n"
     ]
    }
   ],
   "source": [
    "album = make_albums('J.cole', 'KOD')\n",
    "print(album)\n",
    "\n",
    "album =make_albums('J.cole', '2014 Forest Hills Drive', song=13)\n",
    "print(album)\n",
    "\n",
    "\n",
    "album= make_albums(\"J.cole\", \"Born Sinner\")\n",
    "print(album)"
   ]
  },
  {
   "cell_type": "code",
   "execution_count": null,
   "id": "ee8eb9e1",
   "metadata": {},
   "outputs": [],
   "source": []
  }
 ],
 "metadata": {
  "kernelspec": {
   "display_name": "Python 3 (ipykernel)",
   "language": "python",
   "name": "python3"
  },
  "language_info": {
   "codemirror_mode": {
    "name": "ipython",
    "version": 3
   },
   "file_extension": ".py",
   "mimetype": "text/x-python",
   "name": "python",
   "nbconvert_exporter": "python",
   "pygments_lexer": "ipython3",
   "version": "3.11.4"
  }
 },
 "nbformat": 4,
 "nbformat_minor": 5
}
