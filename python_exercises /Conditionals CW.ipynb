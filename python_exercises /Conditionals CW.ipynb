{
 "cells": [
  {
   "cell_type": "markdown",
   "id": "764b9392",
   "metadata": {},
   "source": [
    "## Conditionals\n"
   ]
  },
  {
   "cell_type": "code",
   "execution_count": 14,
   "id": "a1881a78",
   "metadata": {},
   "outputs": [],
   "source": [
    "lists_of_lists =[[\"a\", \"b\", \"c\"], [\"1\", \"2\", \"3\"]]"
   ]
  },
  {
   "cell_type": "code",
   "execution_count": 3,
   "id": "19478c10",
   "metadata": {},
   "outputs": [
    {
     "data": {
      "text/plain": [
       "2"
      ]
     },
     "execution_count": 3,
     "metadata": {},
     "output_type": "execute_result"
    }
   ],
   "source": [
    "len(lists_of_lists)"
   ]
  },
  {
   "cell_type": "code",
   "execution_count": 4,
   "id": "3d5523d9",
   "metadata": {},
   "outputs": [
    {
     "name": "stdout",
     "output_type": "stream",
     "text": [
      "['a', 'b', 'c']\n"
     ]
    }
   ],
   "source": [
    "print(lists_of_lists[0])"
   ]
  },
  {
   "cell_type": "code",
   "execution_count": 16,
   "id": "12023769",
   "metadata": {},
   "outputs": [
    {
     "name": "stdout",
     "output_type": "stream",
     "text": [
      "2\n"
     ]
    }
   ],
   "source": [
    "print(lists_of_lists[1][1])"
   ]
  },
  {
   "cell_type": "markdown",
   "id": "53bb1de1",
   "metadata": {},
   "source": [
    "## Booleans"
   ]
  },
  {
   "cell_type": "code",
   "execution_count": 17,
   "id": "9b054deb",
   "metadata": {},
   "outputs": [],
   "source": [
    "a = True\n",
    "b = False"
   ]
  },
  {
   "cell_type": "code",
   "execution_count": 18,
   "id": "7a5dba8e",
   "metadata": {},
   "outputs": [
    {
     "name": "stdout",
     "output_type": "stream",
     "text": [
      "<class 'bool'>\n"
     ]
    }
   ],
   "source": [
    "print(type(a))"
   ]
  },
  {
   "cell_type": "code",
   "execution_count": 20,
   "id": "b8b3846e",
   "metadata": {},
   "outputs": [
    {
     "name": "stdout",
     "output_type": "stream",
     "text": [
      "False\n"
     ]
    }
   ],
   "source": [
    "print(7==10)"
   ]
  },
  {
   "cell_type": "code",
   "execution_count": 21,
   "id": "53ff9bcc",
   "metadata": {},
   "outputs": [
    {
     "name": "stdout",
     "output_type": "stream",
     "text": [
      "True\n"
     ]
    }
   ],
   "source": [
    "print (7 != 10)"
   ]
  },
  {
   "cell_type": "code",
   "execution_count": 22,
   "id": "265510a8",
   "metadata": {},
   "outputs": [
    {
     "name": "stdout",
     "output_type": "stream",
     "text": [
      "False\n"
     ]
    }
   ],
   "source": [
    "print (7> 10)"
   ]
  },
  {
   "cell_type": "code",
   "execution_count": 23,
   "id": "13a79b9e",
   "metadata": {},
   "outputs": [],
   "source": [
    "c=18"
   ]
  },
  {
   "cell_type": "code",
   "execution_count": 24,
   "id": "eadddfb7",
   "metadata": {},
   "outputs": [
    {
     "data": {
      "text/plain": [
       "True"
      ]
     },
     "execution_count": 24,
     "metadata": {},
     "output_type": "execute_result"
    }
   ],
   "source": [
    "c == 18"
   ]
  },
  {
   "cell_type": "code",
   "execution_count": 25,
   "id": "96709c4c",
   "metadata": {},
   "outputs": [
    {
     "data": {
      "text/plain": [
       "False"
      ]
     },
     "execution_count": 25,
     "metadata": {},
     "output_type": "execute_result"
    }
   ],
   "source": [
    "'c'== 18"
   ]
  },
  {
   "cell_type": "code",
   "execution_count": 26,
   "id": "539b41cb",
   "metadata": {},
   "outputs": [
    {
     "name": "stdout",
     "output_type": "stream",
     "text": [
      "True\n"
     ]
    }
   ],
   "source": [
    "print (\"Gibbon\" == \"Gibbon\")"
   ]
  },
  {
   "cell_type": "code",
   "execution_count": 27,
   "id": "93b551bd",
   "metadata": {},
   "outputs": [
    {
     "name": "stdout",
     "output_type": "stream",
     "text": [
      "False\n"
     ]
    }
   ],
   "source": [
    "print(\"Gibbon\" == \"gibbon\")"
   ]
  },
  {
   "cell_type": "code",
   "execution_count": 28,
   "id": "ca86e056",
   "metadata": {},
   "outputs": [],
   "source": [
    "historians = [\"gibbon\", \"eusebius\", \"lepore\"]"
   ]
  },
  {
   "cell_type": "code",
   "execution_count": 29,
   "id": "2dc81047",
   "metadata": {},
   "outputs": [
    {
     "name": "stdout",
     "output_type": "stream",
     "text": [
      "True\n"
     ]
    }
   ],
   "source": [
    "print(\"gibbon\" in historians)"
   ]
  },
  {
   "cell_type": "code",
   "execution_count": 30,
   "id": "e481362a",
   "metadata": {},
   "outputs": [
    {
     "name": "stdout",
     "output_type": "stream",
     "text": [
      "False\n"
     ]
    }
   ],
   "source": [
    "print(\"Gibbon\" in historians)"
   ]
  },
  {
   "cell_type": "code",
   "execution_count": 59,
   "id": "94095e53",
   "metadata": {},
   "outputs": [
    {
     "name": "stdout",
     "output_type": "stream",
     "text": [
      "Gibbon\n"
     ]
    },
    {
     "data": {
      "text/plain": [
       "False"
      ]
     },
     "execution_count": 59,
     "metadata": {},
     "output_type": "execute_result"
    }
   ],
   "source": [
    "print (\"Gibbon\" or \"gibbon\") in historians"
   ]
  },
  {
   "cell_type": "code",
   "execution_count": 60,
   "id": "82374f9d",
   "metadata": {},
   "outputs": [
    {
     "data": {
      "text/plain": [
       "True"
      ]
     },
     "execution_count": 60,
     "metadata": {},
     "output_type": "execute_result"
    }
   ],
   "source": [
    "(\"Gibbon\" in historians) or (\"gibbon\" in historians)\n"
   ]
  },
  {
   "cell_type": "code",
   "execution_count": null,
   "id": "795f13cb",
   "metadata": {},
   "outputs": [],
   "source": [
    "for historians in historians:\n",
    "    if historian == \"Giboon\" or historian == \"gibbon\"\n",
    "    print(\"Gibbon is in list\")\n",
    "e"
   ]
  },
  {
   "cell_type": "markdown",
   "id": "d4f4b2fc",
   "metadata": {},
   "source": [
    "## Conditionals"
   ]
  },
  {
   "cell_type": "code",
   "execution_count": 48,
   "id": "d991addf",
   "metadata": {},
   "outputs": [],
   "source": [
    "age = 18"
   ]
  },
  {
   "cell_type": "code",
   "execution_count": 49,
   "id": "40493a74",
   "metadata": {},
   "outputs": [
    {
     "name": "stdout",
     "output_type": "stream",
     "text": [
      "Happy Birthday, welcome to democracy, it's a little rough out there.\n"
     ]
    }
   ],
   "source": [
    "if age > 18:\n",
    "    print (\"You're old enough to vote\")\n",
    "elif age == 18:\n",
    "    print (\"Happy Birthday, welcome to democracy, it's a little rough out there.\")\n",
    "else:\n",
    "    print(\"You're too young to vote\")\n",
    "    "
   ]
  },
  {
   "cell_type": "markdown",
   "id": "fd0b36c0",
   "metadata": {},
   "source": [
    "## Boolean operator "
   ]
  },
  {
   "cell_type": "code",
   "execution_count": 54,
   "id": "c70a87e9",
   "metadata": {},
   "outputs": [
    {
     "data": {
      "text/plain": [
       "True"
      ]
     },
     "execution_count": 54,
     "metadata": {},
     "output_type": "execute_result"
    }
   ],
   "source": [
    "(7!= 10) and (7 < 10)"
   ]
  },
  {
   "cell_type": "code",
   "execution_count": 57,
   "id": "47c2fb57",
   "metadata": {},
   "outputs": [
    {
     "data": {
      "text/plain": [
       "False"
      ]
     },
     "execution_count": 57,
     "metadata": {},
     "output_type": "execute_result"
    }
   ],
   "source": [
    "(7 == 10) or (7 > 10)"
   ]
  }
 ],
 "metadata": {
  "kernelspec": {
   "display_name": "Python 3 (ipykernel)",
   "language": "python",
   "name": "python3"
  },
  "language_info": {
   "codemirror_mode": {
    "name": "ipython",
    "version": 3
   },
   "file_extension": ".py",
   "mimetype": "text/x-python",
   "name": "python",
   "nbconvert_exporter": "python",
   "pygments_lexer": "ipython3",
   "version": "3.11.4"
  }
 },
 "nbformat": 4,
 "nbformat_minor": 5
}
