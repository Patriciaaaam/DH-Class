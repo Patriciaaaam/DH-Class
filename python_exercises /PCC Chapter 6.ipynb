{
 "cells": [
  {
   "cell_type": "markdown",
   "id": "271127ca",
   "metadata": {},
   "source": [
    "### 6-1"
   ]
  },
  {
   "cell_type": "code",
   "execution_count": 1,
   "id": "e8797c1c",
   "metadata": {},
   "outputs": [
    {
     "name": "stdout",
     "output_type": "stream",
     "text": [
      "Brandon\n",
      "Martinez\n",
      "17\n",
      "Bronx\n"
     ]
    }
   ],
   "source": [
    "Brandon_9 ={'first_name' : 'Brandon', 'last_name' : 'Martinez', 'age': '17', 'city': 'Bronx'}\n",
    "print (Brandon_9['first_name'])\n",
    "print (Brandon_9 ['last_name'])\n",
    "print (Brandon_9 ['age'])\n",
    "print (Brandon_9 ['city'])"
   ]
  },
  {
   "cell_type": "markdown",
   "id": "b368289c",
   "metadata": {},
   "source": [
    "### 6-2"
   ]
  },
  {
   "cell_type": "code",
   "execution_count": 2,
   "id": "9332c156",
   "metadata": {},
   "outputs": [
    {
     "name": "stdout",
     "output_type": "stream",
     "text": [
      "Assha 4\n",
      "Louise 12\n",
      "Yeshi 11\n",
      "Enson 5\n"
     ]
    }
   ],
   "source": [
    "fav_numbers ={'Assha': '4', 'Louise': '12', 'Yeshi': '11', 'Enson': '5'}\n",
    "print (\"Assha\" , fav_numbers['Assha'])\n",
    "print(\"Louise\", fav_numbers['Louise'])\n",
    "print (\"Yeshi\", fav_numbers[\"Yeshi\"])\n",
    "print (\"Enson\", fav_numbers[\"Enson\"])"
   ]
  },
  {
   "cell_type": "markdown",
   "id": "85078eb8",
   "metadata": {},
   "source": [
    "### 6-3"
   ]
  },
  {
   "cell_type": "code",
   "execution_count": 3,
   "id": "4a8a47fe",
   "metadata": {},
   "outputs": [
    {
     "name": "stdout",
     "output_type": "stream",
     "text": [
      "pop: to delete/remove an item from a list\n",
      "\n",
      "\n",
      "print: to print/publish a string, object or message\n",
      "\n",
      "\n",
      "sorted: to change the order of a list into alphabetical order\n",
      "\n",
      "\n",
      "reverse: changes order of list to any form\n",
      "\n",
      "\n",
      "loop: repeating a string, or message multiple times at once\n"
     ]
    }
   ],
   "source": [
    "coding_master ={'pop:': 'to delete/remove an item from a list', \n",
    "                'print:': 'to print/publish a string, object or message', \n",
    "                'sorted:': 'to change the order of a list into alphabetical order', \n",
    "                'reverse:': \"changes order of list to any form\", \n",
    "                'loop:': 'repeating a string, or message multiple times at once' }\n",
    "print('pop:', coding_master['pop:'])\n",
    "\n",
    "print('\\n')\n",
    "\n",
    "print('print:' , coding_master[\"print:\"])\n",
    "\n",
    "print('\\n')\n",
    "\n",
    "print('sorted:', coding_master['sorted:'])\n",
    "\n",
    "print('\\n')\n",
    "\n",
    "print('reverse:' , coding_master['reverse:'])\n",
    "\n",
    "print('\\n')\n",
    "\n",
    "print('loop:', coding_master['loop:'])"
   ]
  },
  {
   "cell_type": "markdown",
   "id": "8b65ea12",
   "metadata": {},
   "source": [
    "### 6-4"
   ]
  },
  {
   "cell_type": "code",
   "execution_count": 4,
   "id": "d33fa4d4",
   "metadata": {},
   "outputs": [
    {
     "name": "stdout",
     "output_type": "stream",
     "text": [
      "\n",
      " pop:\n",
      "\n",
      " to delete/remove an item from a list\n",
      "\n",
      " print:\n",
      "\n",
      " to print/publish a string, object or message\n",
      "\n",
      " sorted:\n",
      "\n",
      " to change the order of a list into alphabetical order\n",
      "\n",
      " reverse:\n",
      "\n",
      " changes order of list to any form\n",
      "\n",
      " loop:\n",
      "\n",
      " repeating a string, or message multiple times at once\n",
      "\n",
      " upper:\n",
      "\n",
      " for all of the letters or numbers in a string to be uppercase\n",
      "\n",
      " lower:\n",
      "\n",
      " for all the letters or numbers in a string to be lowercase\n",
      "\n",
      " del:\n",
      "\n",
      "  to remove or delete an item\n",
      "\n",
      " list:\n",
      "\n",
      " multiple items, names, or numbers listed in a string\n",
      "\n",
      " else statement:\n",
      "\n",
      " used to print a message for a statement that does not meet previous rules\n"
     ]
    }
   ],
   "source": [
    "coding_master= {'pop:': 'to delete/remove an item from a list', \n",
    "                'print:': 'to print/publish a string, object or message', \n",
    "                'sorted:': 'to change the order of a list into alphabetical order', \n",
    "                'reverse:': \"changes order of list to any form\", \n",
    "                'loop:': 'repeating a string, or message multiple times at once',\n",
    "                'upper:': 'for all of the letters or numbers in a string to be uppercase', \n",
    "                'lower:': 'for all the letters or numbers in a string to be lowercase', \n",
    "                'del:' : ' to remove or delete an item', \n",
    "                'list:': 'multiple items, names, or numbers listed in a string', \n",
    "                'else statement:' : 'used to print a message for a statement that does not meet previous rules'}\n",
    "\n",
    "\n",
    "\n",
    "for k, v in coding_master.items():\n",
    "    print(\"\\n\" ,k)\n",
    "    print(\"\\n\" ,v)"
   ]
  },
  {
   "cell_type": "markdown",
   "id": "dc236c0b",
   "metadata": {},
   "source": [
    "### 6-5"
   ]
  },
  {
   "cell_type": "code",
   "execution_count": 5,
   "id": "1ee77027",
   "metadata": {},
   "outputs": [
    {
     "name": "stdout",
     "output_type": "stream",
     "text": [
      "The Amazon river runs through Brazil, Columbia & Peru\n",
      "The Nile runs through Egypt\n",
      "The Yangtze runs through China\n",
      "\n",
      "\n",
      "\n",
      " Amazon river\n",
      "\n",
      " Brazil, Columbia & Peru\n",
      "\n",
      " Nile\n",
      "\n",
      " Egypt\n",
      "\n",
      " Yangtze\n",
      "\n",
      " China\n"
     ]
    }
   ],
   "source": [
    "rivers = {'Amazon river' : 'Brazil, Columbia & Peru', \n",
    "         \n",
    "         'Nile': 'Egypt', \n",
    "         \n",
    "         'Yangtze': 'China'}\n",
    "\n",
    "for k, v in rivers.items():\n",
    "    print(\"The\", k, \"runs through\" ,v)\n",
    "    \n",
    "print(\"\\n\")\n",
    "\n",
    "for k, v in rivers.items(): \n",
    "    print(\"\\n\" ,k)\n",
    "    print(\"\\n\" ,v)"
   ]
  },
  {
   "cell_type": "markdown",
   "id": "90283fd2",
   "metadata": {},
   "source": [
    "### 6-7"
   ]
  },
  {
   "cell_type": "code",
   "execution_count": 6,
   "id": "118dd8a9",
   "metadata": {},
   "outputs": [
    {
     "name": "stdout",
     "output_type": "stream",
     "text": [
      "\n",
      " Brandon\n",
      "\n",
      " Martinez\n",
      "\n",
      " 17\n",
      "\n",
      " Bronx\n",
      "\n",
      " Yeshi\n",
      "\n",
      " Martinez\n",
      "\n",
      " 14\n",
      "\n",
      " Bronx\n",
      "\n",
      " Enson\n",
      "\n",
      " Martinez\n",
      "\n",
      " 12\n",
      "\n",
      " Bronx\n"
     ]
    }
   ],
   "source": [
    "people ={'first_name' : 'Brandon', 'last_name' : 'Martinez', 'age': '17', 'city': 'Bronx',\n",
    "         'first_namee': 'Yeshi', 'last_namee': 'Martinez', 'agee': '14', 'cityy':'Bronx', \n",
    "         'first_names': 'Enson', 'last_names': 'Martinez', 'ages': '12', 'citys': 'Bronx'}\n",
    "\n",
    "for k, v in people.items():\n",
    "    print(\"\\n\", v)"
   ]
  },
  {
   "cell_type": "markdown",
   "id": "0bb1177d",
   "metadata": {},
   "source": [
    "### 6-8"
   ]
  },
  {
   "cell_type": "code",
   "execution_count": 7,
   "id": "b1faba14",
   "metadata": {},
   "outputs": [
    {
     "name": "stdout",
     "output_type": "stream",
     "text": [
      "\n",
      " dog\n",
      "\n",
      " alondra\n",
      "\n",
      " cats\n",
      "\n",
      " Esther\n",
      "\n",
      " birds\n",
      "\n",
      " Patricia\n",
      "\n",
      " camels\n",
      "\n",
      " Assha\n"
     ]
    }
   ],
   "source": [
    "pets = { 'dog': 'alondra', 'cats' :'Esther', 'birds': 'Patricia', 'camels': 'Assha'}\n",
    "for x, v in pets.items():\n",
    "    print(\"\\n\" ,x)\n",
    "    print(\"\\n\", v)"
   ]
  },
  {
   "cell_type": "markdown",
   "id": "56a7bb5c",
   "metadata": {},
   "source": [
    "### 6-9"
   ]
  },
  {
   "cell_type": "code",
   "execution_count": 8,
   "id": "a7e8728f",
   "metadata": {},
   "outputs": [
    {
     "name": "stdout",
     "output_type": "stream",
     "text": [
      "\n",
      " Alondra\n",
      "\n",
      " church & school\n",
      "\n",
      " Yeshi\n",
      "\n",
      " SEO & home\n",
      "\n",
      " Assha\n",
      "\n",
      " work & home\n"
     ]
    }
   ],
   "source": [
    "favorite_places = {'Alondra' :'church & school', 'Yeshi': 'SEO & home', 'Assha':'work & home'}\n",
    "for k, v in favorite_places.items(): \n",
    "    print(\"\\n\" , k)\n",
    "    print(\"\\n\", v)"
   ]
  },
  {
   "cell_type": "markdown",
   "id": "12269139",
   "metadata": {},
   "source": [
    "### 6-11"
   ]
  },
  {
   "cell_type": "code",
   "execution_count": 1,
   "id": "56be4764",
   "metadata": {},
   "outputs": [
    {
     "name": "stdout",
     "output_type": "stream",
     "text": [
      "\n",
      "city: Bronx\n",
      "\tCountry: U.S.A\n",
      "\tpopulation: 1.427 Million\n",
      "\tfunfact :Hip-Hop & Salsa Were Born In The Bronx\n",
      "\n",
      "city: Puerto Cortes\n",
      "\tCountry: Honduras\n",
      "\tpopulation: 73,150\n",
      "\tfunfact :Known As Honduras\"S Largest Post\n",
      "\n",
      "city: Cape Coast\n",
      "\tCountry: Ghana\n",
      "\tpopulation: 170,000\n",
      "\tfunfact :Holds Three Castles That Were Used For Keep Slaves For The British\n"
     ]
    }
   ],
   "source": [
    "cities ={ \n",
    "'Bronx':{ 'country' : 'U.S.A', 'population': '1.427 million', 'fun fact': 'Hip-hop & Salsa were born in the Bronx'\n",
    " },\n",
    "\n",
    "\n",
    "'Puerto Cortes': {'country': 'Honduras', 'population' : '73,150', 'fun fact': 'Known as Honduras\"s largest post'\n",
    "},\n",
    "                    \n",
    "'Cape Coast': {'country': 'Ghana', 'population': '170,000', 'fun fact':'Holds three castles that were used for keep slaves for the british'\n",
    "},\n",
    "    \n",
    "}\n",
    "\n",
    "for city, city_info in cities.items():\n",
    "    print(\"\\ncity:\", city)\n",
    "    country= city_info['country']\n",
    "    population=city_info['population']\n",
    "    funfact= city_info['fun fact']\n",
    "    print(f\"\\tCountry: {country.title()}\")\n",
    "    print(f\"\\tpopulation: {population.title()}\")\n",
    "    print(f\"\\tfunfact :{funfact.title()}\")\n",
    "\n",
    "    \n",
    "\n"
   ]
  },
  {
   "cell_type": "code",
   "execution_count": null,
   "id": "6fe9079f",
   "metadata": {},
   "outputs": [],
   "source": []
  }
 ],
 "metadata": {
  "kernelspec": {
   "display_name": "Python 3 (ipykernel)",
   "language": "python",
   "name": "python3"
  },
  "language_info": {
   "codemirror_mode": {
    "name": "ipython",
    "version": 3
   },
   "file_extension": ".py",
   "mimetype": "text/x-python",
   "name": "python",
   "nbconvert_exporter": "python",
   "pygments_lexer": "ipython3",
   "version": "3.11.4"
  }
 },
 "nbformat": 4,
 "nbformat_minor": 5
}
