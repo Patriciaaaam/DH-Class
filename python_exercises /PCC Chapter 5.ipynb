{
 "cells": [
  {
   "cell_type": "markdown",
   "id": "3571b5a1",
   "metadata": {},
   "source": [
    "### 5-1"
   ]
  },
  {
   "cell_type": "code",
   "execution_count": 13,
   "id": "69d94ebb",
   "metadata": {},
   "outputs": [
    {
     "name": "stdout",
     "output_type": "stream",
     "text": [
      "is the package being delivered by == \"UPS\" I predict True\n",
      "True\n",
      "is the package getting delivered by == \"FedX\" I predict False\n",
      "False\n"
     ]
    }
   ],
   "source": [
    "delivery = \"UPS\"\n",
    "print('is the package being delivered by == \"UPS\" I predict True')\n",
    "print (delivery == \"UPS\")\n",
    "\n",
    "\n",
    "print('is the package getting delivered by == \"FedX\" I predict False' )\n",
    "print(delivery == \"FedX\")\n"
   ]
  },
  {
   "cell_type": "code",
   "execution_count": 3,
   "id": "a44e9196",
   "metadata": {},
   "outputs": [
    {
     "name": "stdout",
     "output_type": "stream",
     "text": [
      "Are have having ==\"Indian food\" I predict True\n",
      "True\n",
      "Are we having == \"Mexican food\" I predict False\n",
      "False\n"
     ]
    }
   ],
   "source": [
    "food = \"Indian food\"\n",
    "print('Are have having ==\"Indian food\" I predict True')\n",
    "print(food == \"Indian food\")\n",
    "\n",
    "print ('Are we having == \"Mexican food\" I predict False')\n",
    "print( food== \"Mexican food\")"
   ]
  },
  {
   "cell_type": "code",
   "execution_count": 2,
   "id": "873dbd9d",
   "metadata": {},
   "outputs": [
    {
     "name": "stdout",
     "output_type": "stream",
     "text": [
      "Does she use == \"camillie rose\" I predict False\n",
      "False\n",
      "Does she use ==\"Shea Moisture\" I predict True\n",
      "False\n"
     ]
    }
   ],
   "source": [
    "product= \"Shea Moisture\"\n",
    "\n",
    "print('Does she use == \"camillie rose\" I predict False')\n",
    "print(product == \"camillie Rose\")\n",
    "\n",
    "print('Does she use ==\"Shea Moisture\" I predict True')\n",
    "print(product == \"shea Moisture\")\n"
   ]
  },
  {
   "cell_type": "code",
   "execution_count": 20,
   "id": "ffa5adb4",
   "metadata": {},
   "outputs": [
    {
     "data": {
      "text/plain": [
       "True"
      ]
     },
     "execution_count": 20,
     "metadata": {},
     "output_type": "execute_result"
    }
   ],
   "source": [
    "product = \"Shea Moisture\"\n",
    "product.lower()== \"shea moisture\""
   ]
  },
  {
   "cell_type": "code",
   "execution_count": 28,
   "id": "c252f0a9",
   "metadata": {},
   "outputs": [
    {
     "name": "stdout",
     "output_type": "stream",
     "text": [
      "My best friend is =='Alondra' I predict True\n",
      "True\n",
      "My best friend is == 'Jermaine cole' I predict Flase\n",
      "False\n"
     ]
    }
   ],
   "source": [
    "Bestie = 'Alondra'\n",
    "\n",
    "print(\"My best friend is =='Alondra' I predict True\")\n",
    "print(Bestie == 'Alondra')\n",
    "\n",
    "print(\"My best friend is == 'Jermaine cole' I predict Flase\")\n",
    "print (Bestie == \"Jermaine Cole\")\n",
    "\n"
   ]
  },
  {
   "cell_type": "code",
   "execution_count": 35,
   "id": "e9456d88",
   "metadata": {},
   "outputs": [
    {
     "name": "stdout",
     "output_type": "stream",
     "text": [
      "'Blackberries'== are my favorite fruit, I predict True\n",
      "True\n",
      " 'Kiwi'== is my favroite fruit, I predict False\n",
      "False\n"
     ]
    }
   ],
   "source": [
    "fruit= \"Blackberries\"\n",
    "\n",
    "print( \"'Blackberries'== are my favorite fruit, I predict True\")\n",
    "print(fruit == \"Blackberries\")\n",
    "\n",
    "print(\" 'Kiwi'== is my favroite fruit, I predict False\")\n",
    "print(fruit == \"Kiwi\")\n",
    "\n"
   ]
  },
  {
   "cell_type": "code",
   "execution_count": 25,
   "id": "38fba1c1",
   "metadata": {},
   "outputs": [
    {
     "data": {
      "text/plain": [
       "True"
      ]
     },
     "execution_count": 25,
     "metadata": {},
     "output_type": "execute_result"
    }
   ],
   "source": [
    "age = 20\n",
    "age <22 "
   ]
  },
  {
   "cell_type": "code",
   "execution_count": 22,
   "id": "0835a791",
   "metadata": {},
   "outputs": [
    {
     "data": {
      "text/plain": [
       "True"
      ]
     },
     "execution_count": 22,
     "metadata": {},
     "output_type": "execute_result"
    }
   ],
   "source": [
    "age<= 20"
   ]
  },
  {
   "cell_type": "code",
   "execution_count": 26,
   "id": "3201575d",
   "metadata": {},
   "outputs": [
    {
     "data": {
      "text/plain": [
       "False"
      ]
     },
     "execution_count": 26,
     "metadata": {},
     "output_type": "execute_result"
    }
   ],
   "source": [
    "age>22"
   ]
  },
  {
   "cell_type": "code",
   "execution_count": 27,
   "id": "9bfdd36e",
   "metadata": {},
   "outputs": [
    {
     "data": {
      "text/plain": [
       "False"
      ]
     },
     "execution_count": 27,
     "metadata": {},
     "output_type": "execute_result"
    }
   ],
   "source": [
    "age_0 = 20\n",
    "age_2 = 18\n",
    "\n",
    "age_0 <= 19 and age_2>= 19"
   ]
  },
  {
   "cell_type": "code",
   "execution_count": 30,
   "id": "d499fb2c",
   "metadata": {},
   "outputs": [
    {
     "data": {
      "text/plain": [
       "True"
      ]
     },
     "execution_count": 30,
     "metadata": {},
     "output_type": "execute_result"
    }
   ],
   "source": [
    "age_0 =20\n",
    "age_2 =18\n",
    "\n",
    "age_0 <=21 and age_2<= 19"
   ]
  },
  {
   "cell_type": "code",
   "execution_count": 33,
   "id": "42641d0f",
   "metadata": {},
   "outputs": [
    {
     "data": {
      "text/plain": [
       "True"
      ]
     },
     "execution_count": 33,
     "metadata": {},
     "output_type": "execute_result"
    }
   ],
   "source": [
    "age_1 = 30\n",
    "age_4 = 24\n",
    "\n",
    "age_1 >=25 or age_4 <=36\n"
   ]
  },
  {
   "cell_type": "code",
   "execution_count": 38,
   "id": "bad6d363",
   "metadata": {},
   "outputs": [
    {
     "data": {
      "text/plain": [
       "True"
      ]
     },
     "execution_count": 38,
     "metadata": {},
     "output_type": "execute_result"
    }
   ],
   "source": [
    "technology = [\"Laptops\", \"phones\", \"watches\"  ]\n",
    "\"Laptops\" in technology"
   ]
  },
  {
   "cell_type": "code",
   "execution_count": 37,
   "id": "5e4825d1",
   "metadata": {},
   "outputs": [
    {
     "data": {
      "text/plain": [
       "False"
      ]
     },
     "execution_count": 37,
     "metadata": {},
     "output_type": "execute_result"
    }
   ],
   "source": [
    "technology = [\"Laptops\", \"phones\", \"watches\"  ]\n",
    "\"computers\" in technology"
   ]
  },
  {
   "cell_type": "markdown",
   "id": "16f48b9b",
   "metadata": {},
   "source": [
    "### 5-6"
   ]
  },
  {
   "cell_type": "code",
   "execution_count": 7,
   "id": "e4660984",
   "metadata": {},
   "outputs": [
    {
     "name": "stdout",
     "output_type": "stream",
     "text": [
      "you're a baby\n"
     ]
    }
   ],
   "source": [
    "age=1\n",
    "if age <2:\n",
    "    print (\"you're a baby\")"
   ]
  },
  {
   "cell_type": "code",
   "execution_count": 8,
   "id": "8b217443",
   "metadata": {},
   "outputs": [
    {
     "name": "stdout",
     "output_type": "stream",
     "text": [
      "you're a toddler\n"
     ]
    }
   ],
   "source": [
    "age = 3\n",
    "if age < 4:\n",
    "    print( \"you're a toddler\")\n"
   ]
  },
  {
   "cell_type": "code",
   "execution_count": 9,
   "id": "09e77e14",
   "metadata": {},
   "outputs": [
    {
     "name": "stdout",
     "output_type": "stream",
     "text": [
      "you're a kid\n"
     ]
    }
   ],
   "source": [
    "age = 11\n",
    "if age < 13:\n",
    "    print(\"you're a kid\")"
   ]
  },
  {
   "cell_type": "code",
   "execution_count": 10,
   "id": "a8493d76",
   "metadata": {},
   "outputs": [
    {
     "name": "stdout",
     "output_type": "stream",
     "text": [
      "You're a teenager\n"
     ]
    }
   ],
   "source": [
    "age = 15\n",
    "if age <20:\n",
    "    print (\"You're a teenager\")\n"
   ]
  },
  {
   "cell_type": "code",
   "execution_count": 11,
   "id": "70cb97a6",
   "metadata": {},
   "outputs": [
    {
     "name": "stdout",
     "output_type": "stream",
     "text": [
      "You're an adult\n"
     ]
    }
   ],
   "source": [
    "age=30\n",
    "if age<65:\n",
    "    print(\"You're an adult\")"
   ]
  },
  {
   "cell_type": "code",
   "execution_count": 12,
   "id": "64020de8",
   "metadata": {},
   "outputs": [
    {
     "name": "stdout",
     "output_type": "stream",
     "text": [
      "You're an elder\n"
     ]
    }
   ],
   "source": [
    "age= 65\n",
    "if age >= 65:\n",
    "    print(\"You're an elder\")"
   ]
  },
  {
   "cell_type": "markdown",
   "id": "a7240820",
   "metadata": {},
   "source": [
    "### 5-7"
   ]
  },
  {
   "cell_type": "code",
   "execution_count": 37,
   "id": "b9b74650",
   "metadata": {},
   "outputs": [
    {
     "name": "stdout",
     "output_type": "stream",
     "text": [
      "I love mango\n"
     ]
    }
   ],
   "source": [
    "favorite_fruits= [\"mango\", \"strawberries\", \"banana\"]\n",
    "if \"mango\" in favorite_fruits:\n",
    "    print(\"I love\",favorite_fruits[0])\n"
   ]
  },
  {
   "cell_type": "code",
   "execution_count": 35,
   "id": "05f53e58",
   "metadata": {},
   "outputs": [],
   "source": [
    "favorite_fruits= [\"mango\", \"strawberries\", \"banana\"]\n",
    "if \"apple\" in favorite_fruits:\n",
    "    print (\"I love apples\")"
   ]
  },
  {
   "cell_type": "code",
   "execution_count": 34,
   "id": "152c778f",
   "metadata": {},
   "outputs": [
    {
     "name": "stdout",
     "output_type": "stream",
     "text": [
      "strawberries are a nice color\n"
     ]
    }
   ],
   "source": [
    "favorite_fruits= [\"mango\", \"strawberries\", \"banana\"]\n",
    "if \"strawberries\" in favorite_fruits:\n",
    "    print(favorite_fruits[1], \"are a nice color\")"
   ]
  },
  {
   "cell_type": "code",
   "execution_count": 38,
   "id": "f7bd499d",
   "metadata": {},
   "outputs": [
    {
     "name": "stdout",
     "output_type": "stream",
     "text": [
      "banana are actually berrries\n"
     ]
    }
   ],
   "source": [
    "favorite_fruits= [\"mango\", \"strawberries\", \"banana\"]\n",
    "if \"banana\" in favorite_fruits:\n",
    "    print (favorite_fruits[2], \"are actually berrries\")"
   ]
  },
  {
   "cell_type": "code",
   "execution_count": 39,
   "id": "ed14781d",
   "metadata": {},
   "outputs": [],
   "source": [
    "favorite_fruits= [\"mango\", \"strawberries\", \"bannana\"]\n",
    "if \"pineapple\" in favorite_fruits:\n",
    "    print(\"I love pineapples\")"
   ]
  },
  {
   "cell_type": "markdown",
   "id": "1ac9cb19",
   "metadata": {},
   "source": [
    "### 5-8"
   ]
  },
  {
   "cell_type": "code",
   "execution_count": 36,
   "id": "a9314e07",
   "metadata": {},
   "outputs": [
    {
     "name": "stdout",
     "output_type": "stream",
     "text": [
      "Hello admin thank you for logging in again.\n",
      "Hello Asher.thedasher thank you for logging in again.\n",
      "Hello Luna_balogna thank you for logging in again.\n",
      "Hello Giyuu.mm thank you for logging in again.\n",
      "Hello August.m thank you for logging in again.\n"
     ]
    }
   ],
   "source": [
    "name= [\"admin\", \"Asher.thedasher\", \"Luna_balogna\", \"Giyuu.mm\", \"August.m\"]\n",
    "for y in name:\n",
    "    print(\"Hello\", y ,\"thank you for logging in again.\")\n",
    "    \n",
    "if x == \"admin\":\n",
    "    print(\"hey\", name[0])\n",
    "          "
   ]
  },
  {
   "cell_type": "markdown",
   "id": "b0511210",
   "metadata": {},
   "source": [
    "### 5-9"
   ]
  },
  {
   "cell_type": "code",
   "execution_count": 9,
   "id": "e28f5211",
   "metadata": {},
   "outputs": [
    {
     "name": "stdout",
     "output_type": "stream",
     "text": [
      "Hello admin would you like to see a status report?\n"
     ]
    }
   ],
   "source": [
    "name= [\"admin\", \"Asher.thedasher\", \"Luna_balogna\", \"Giyuu.mm\", \"August.m\"]\n",
    "    \n",
    "if \"admin\" in name:\n",
    "    print(\"Hello\" ,name[0],\"would you like to see a status report?\" )"
   ]
  },
  {
   "cell_type": "markdown",
   "id": "fab09248",
   "metadata": {},
   "source": [
    "### 5-10"
   ]
  },
  {
   "cell_type": "code",
   "execution_count": 24,
   "id": "34d88d07",
   "metadata": {},
   "outputs": [
    {
     "name": "stdout",
     "output_type": "stream",
     "text": [
      "Yeshi_M is avaliable\n",
      "Patriciaaam is avaliable\n",
      "Enson@m is avaliable\n",
      "Brandon-m is avaliable\n",
      "Assha_f is avaliable\n"
     ]
    }
   ],
   "source": [
    "current_users = [\"Keziah.gp\", \"Esther.N\", \"Jude..B\", \"Sonia. M\", \"Yeshi_M\"]\n",
    "\n",
    "new_users = [\"Yeshi_M\", \"Patriciaaam\", \"Enson@m\", \"Brandon-m\", \"Assha_f\"]    \n",
    "for x in new_users :\n",
    "    print (x, \"is avaliable\")\n",
    "    else\n"
   ]
  },
  {
   "cell_type": "code",
   "execution_count": null,
   "id": "788dad31",
   "metadata": {},
   "outputs": [],
   "source": []
  }
 ],
 "metadata": {
  "kernelspec": {
   "display_name": "Python 3 (ipykernel)",
   "language": "python",
   "name": "python3"
  },
  "language_info": {
   "codemirror_mode": {
    "name": "ipython",
    "version": 3
   },
   "file_extension": ".py",
   "mimetype": "text/x-python",
   "name": "python",
   "nbconvert_exporter": "python",
   "pygments_lexer": "ipython3",
   "version": "3.11.4"
  }
 },
 "nbformat": 4,
 "nbformat_minor": 5
}
