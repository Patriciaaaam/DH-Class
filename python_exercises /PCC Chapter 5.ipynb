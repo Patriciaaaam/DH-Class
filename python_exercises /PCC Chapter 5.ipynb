{
 "cells": [
  {
   "cell_type": "markdown",
   "id": "3571b5a1",
   "metadata": {},
   "source": [
    "### 5-1"
   ]
  },
  {
   "cell_type": "code",
   "execution_count": 13,
   "id": "69d94ebb",
   "metadata": {},
   "outputs": [
    {
     "name": "stdout",
     "output_type": "stream",
     "text": [
      "is the package being delivered by == \"UPS\" I predict True\n",
      "True\n",
      "is the package getting delivered by == \"FedX\" I predict False\n",
      "False\n"
     ]
    }
   ],
   "source": [
    "delivery = \"UPS\"\n",
    "print('is the package being delivered by == \"UPS\" I predict True')\n",
    "print (delivery == \"UPS\")\n",
    "\n",
    "\n",
    "print('is the package getting delivered by == \"FedX\" I predict False' )\n",
    "print(delivery == \"FedX\")\n"
   ]
  },
  {
   "cell_type": "code",
   "execution_count": 3,
   "id": "a44e9196",
   "metadata": {},
   "outputs": [
    {
     "name": "stdout",
     "output_type": "stream",
     "text": [
      "Are have having ==\"Indian food\" I predict True\n",
      "True\n",
      "Are we having == \"Mexican food\" I predict False\n",
      "False\n"
     ]
    }
   ],
   "source": [
    "food = \"Indian food\"\n",
    "print('Are have having ==\"Indian food\" I predict True')\n",
    "print(food == \"Indian food\")\n",
    "\n",
    "print ('Are we having == \"Mexican food\" I predict False')\n",
    "print( food== \"Mexican food\")"
   ]
  },
  {
   "cell_type": "code",
   "execution_count": 2,
   "id": "873dbd9d",
   "metadata": {},
   "outputs": [
    {
     "name": "stdout",
     "output_type": "stream",
     "text": [
      "Does she use == \"camillie rose\" I predict False\n",
      "False\n",
      "Does she use ==\"Shea Moisture\" I predict True\n",
      "False\n"
     ]
    }
   ],
   "source": [
    "product= \"Shea Moisture\"\n",
    "\n",
    "print('Does she use == \"camillie rose\" I predict False')\n",
    "print(product == \"camillie Rose\")\n",
    "\n",
    "print('Does she use ==\"Shea Moisture\" I predict True')\n",
    "print(product == \"shea Moisture\")\n"
   ]
  },
  {
   "cell_type": "code",
   "execution_count": 20,
   "id": "ffa5adb4",
   "metadata": {},
   "outputs": [
    {
     "data": {
      "text/plain": [
       "True"
      ]
     },
     "execution_count": 20,
     "metadata": {},
     "output_type": "execute_result"
    }
   ],
   "source": [
    "product = \"Shea Moisture\"\n",
    "product.lower()== \"shea moisture\""
   ]
  },
  {
   "cell_type": "code",
   "execution_count": 28,
   "id": "c252f0a9",
   "metadata": {},
   "outputs": [
    {
     "name": "stdout",
     "output_type": "stream",
     "text": [
      "My best friend is =='Alondra' I predict True\n",
      "True\n",
      "My best friend is == 'Jermaine cole' I predict Flase\n",
      "False\n"
     ]
    }
   ],
   "source": [
    "Bestie = 'Alondra'\n",
    "\n",
    "print(\"My best friend is =='Alondra' I predict True\")\n",
    "print(Bestie == 'Alondra')\n",
    "\n",
    "print(\"My best friend is == 'Jermaine cole' I predict Flase\")\n",
    "print (Bestie == \"Jermaine Cole\")\n",
    "\n"
   ]
  },
  {
   "cell_type": "code",
   "execution_count": 35,
   "id": "e9456d88",
   "metadata": {},
   "outputs": [
    {
     "name": "stdout",
     "output_type": "stream",
     "text": [
      "'Blackberries'== are my favorite fruit, I predict True\n",
      "True\n",
      " 'Kiwi'== is my favroite fruit, I predict False\n",
      "False\n"
     ]
    }
   ],
   "source": [
    "fruit= \"Blackberries\"\n",
    "\n",
    "print( \"'Blackberries'== are my favorite fruit, I predict True\")\n",
    "print(fruit == \"Blackberries\")\n",
    "\n",
    "print(\" 'Kiwi'== is my favroite fruit, I predict False\")\n",
    "print(fruit == \"Kiwi\")\n",
    "\n"
   ]
  },
  {
   "cell_type": "code",
   "execution_count": 25,
   "id": "38fba1c1",
   "metadata": {},
   "outputs": [
    {
     "data": {
      "text/plain": [
       "True"
      ]
     },
     "execution_count": 25,
     "metadata": {},
     "output_type": "execute_result"
    }
   ],
   "source": [
    "age = 20\n",
    "age <22 "
   ]
  },
  {
   "cell_type": "code",
   "execution_count": 22,
   "id": "0835a791",
   "metadata": {},
   "outputs": [
    {
     "data": {
      "text/plain": [
       "True"
      ]
     },
     "execution_count": 22,
     "metadata": {},
     "output_type": "execute_result"
    }
   ],
   "source": [
    "age<= 20"
   ]
  },
  {
   "cell_type": "code",
   "execution_count": 26,
   "id": "3201575d",
   "metadata": {},
   "outputs": [
    {
     "data": {
      "text/plain": [
       "False"
      ]
     },
     "execution_count": 26,
     "metadata": {},
     "output_type": "execute_result"
    }
   ],
   "source": [
    "age>22"
   ]
  },
  {
   "cell_type": "code",
   "execution_count": 27,
   "id": "9bfdd36e",
   "metadata": {},
   "outputs": [
    {
     "data": {
      "text/plain": [
       "False"
      ]
     },
     "execution_count": 27,
     "metadata": {},
     "output_type": "execute_result"
    }
   ],
   "source": [
    "age_0 = 20\n",
    "age_2 = 18\n",
    "\n",
    "age_0 <= 19 and age_2>= 19"
   ]
  },
  {
   "cell_type": "code",
   "execution_count": 30,
   "id": "d499fb2c",
   "metadata": {},
   "outputs": [
    {
     "data": {
      "text/plain": [
       "True"
      ]
     },
     "execution_count": 30,
     "metadata": {},
     "output_type": "execute_result"
    }
   ],
   "source": [
    "age_0 =20\n",
    "age_2 =18\n",
    "\n",
    "age_0 <=21 and age_2<= 19"
   ]
  },
  {
   "cell_type": "code",
   "execution_count": 33,
   "id": "42641d0f",
   "metadata": {},
   "outputs": [
    {
     "data": {
      "text/plain": [
       "True"
      ]
     },
     "execution_count": 33,
     "metadata": {},
     "output_type": "execute_result"
    }
   ],
   "source": [
    "age_1 = 30\n",
    "age_4 = 24\n",
    "\n",
    "age_1 >=25 or age_4 <=36\n"
   ]
  },
  {
   "cell_type": "code",
   "execution_count": 38,
   "id": "bad6d363",
   "metadata": {},
   "outputs": [
    {
     "data": {
      "text/plain": [
       "True"
      ]
     },
     "execution_count": 38,
     "metadata": {},
     "output_type": "execute_result"
    }
   ],
   "source": [
    "technology = [\"Laptops\", \"phones\", \"watches\"  ]\n",
    "\"Laptops\" in technology"
   ]
  },
  {
   "cell_type": "code",
   "execution_count": 37,
   "id": "5e4825d1",
   "metadata": {},
   "outputs": [
    {
     "data": {
      "text/plain": [
       "False"
      ]
     },
     "execution_count": 37,
     "metadata": {},
     "output_type": "execute_result"
    }
   ],
   "source": [
    "technology = [\"Laptops\", \"phones\", \"watches\"  ]\n",
    "\"computers\" in technology"
   ]
  },
  {
   "cell_type": "markdown",
   "id": "dea9b838",
   "metadata": {},
   "source": [
    "### 5-3"
   ]
  },
  {
   "cell_type": "code",
   "execution_count": null,
   "id": "8c110cc5",
   "metadata": {},
   "outputs": [],
   "source": [
    "alien_color = 'green'"
   ]
  }
 ],
 "metadata": {
  "kernelspec": {
   "display_name": "Python 3 (ipykernel)",
   "language": "python",
   "name": "python3"
  },
  "language_info": {
   "codemirror_mode": {
    "name": "ipython",
    "version": 3
   },
   "file_extension": ".py",
   "mimetype": "text/x-python",
   "name": "python",
   "nbconvert_exporter": "python",
   "pygments_lexer": "ipython3",
   "version": "3.11.4"
  }
 },
 "nbformat": 4,
 "nbformat_minor": 5
}
