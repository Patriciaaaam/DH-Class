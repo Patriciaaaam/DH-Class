{
 "cells": [
  {
   "cell_type": "markdown",
   "id": "b7290c23",
   "metadata": {},
   "source": [
    "### 4-1"
   ]
  },
  {
   "cell_type": "code",
   "execution_count": 21,
   "id": "dcae3a56",
   "metadata": {},
   "outputs": [
    {
     "name": "stdout",
     "output_type": "stream",
     "text": [
      "pineapple pizza\n",
      "cheese pizza\n",
      "sausage pizza\n"
     ]
    }
   ],
   "source": [
    "pizzas=['pineapple pizza', 'cheese pizza','sausage pizza']\n",
    "\n",
    "for pizza in pizzas: print(pizza)\n"
   ]
  },
  {
   "cell_type": "code",
   "execution_count": 29,
   "id": "b10053e5",
   "metadata": {},
   "outputs": [
    {
     "name": "stdout",
     "output_type": "stream",
     "text": [
      "I like pineapple pizza\n",
      "I like cheese pizza\n",
      "I like sausage pizza\n",
      "\n",
      "\n",
      "I really love pizza\n",
      "I adore pineapple pizza\n",
      "I adore cheese pizza\n",
      "I adore sausage pizza\n"
     ]
    }
   ],
   "source": [
    "pizzas=['pineapple pizza', 'cheese pizza','sausage pizza']\n",
    "\n",
    "for pizza in pizzas: print(\"I like\" , pizza)\n",
    "    \n",
    "print('\\n')\n",
    "\n",
    "print(\"I really love pizza\")\n",
    "\n",
    "\n",
    "pizzas=['pineapple pizza', 'cheese pizza','sausage pizza']\n",
    "\n",
    "for pizza in pizzas: print( \"I adore\", pizza)\n"
   ]
  },
  {
   "cell_type": "markdown",
   "id": "6728f7bd",
   "metadata": {},
   "source": [
    "### 4-2"
   ]
  },
  {
   "cell_type": "code",
   "execution_count": null,
   "id": "cd8869c1",
   "metadata": {},
   "outputs": [],
   "source": [
    "beaks= ['Parakeets', 'Parrots', 'dodo birds']\n",
    "for birds in beaks: print  (birds) \n",
    "    \n",
    "print(\"\\n\")\n",
    "\n",
    "print (beaks[1], \"are very beautiful\")\n",
    "print (\"I have pet\" , beaks[0])\n",
    "print( \"I wish I could've see\", beaks[2])\n",
    "    \n",
    "print(\"\\n\")\n",
    "\n",
    "for birds in beaks: print (\"Usually\" ,birds, \"have a beak\")"
   ]
  },
  {
   "cell_type": "markdown",
   "id": "bf5f7bb7",
   "metadata": {},
   "source": [
    "### 4-3"
   ]
  },
  {
   "cell_type": "code",
   "execution_count": 16,
   "id": "1d58c975",
   "metadata": {},
   "outputs": [
    {
     "name": "stdout",
     "output_type": "stream",
     "text": [
      "1\n",
      "2\n",
      "3\n",
      "4\n",
      "5\n",
      "6\n",
      "7\n",
      "8\n",
      "9\n",
      "10\n",
      "11\n",
      "12\n",
      "13\n",
      "14\n",
      "15\n",
      "16\n",
      "17\n",
      "18\n",
      "19\n",
      "20\n"
     ]
    }
   ],
   "source": [
    "number= [\"1\", \"2\", \"3\", \"4\", \"5\", \"6\", \"7\", \"8\", \"9\", \"10\" , \"11\", \"12\", \"13\", \"14\", \"15\", \"16\", \"17\", \"18\", \"19\", \"20\"]\n",
    "\n",
    "for numbers in number: print(numbers)"
   ]
  },
  {
   "cell_type": "code",
   "execution_count": 21,
   "id": "34a225d2",
   "metadata": {},
   "outputs": [
    {
     "ename": "ValueError",
     "evalue": "range() arg 3 must not be zero",
     "output_type": "error",
     "traceback": [
      "\u001b[0;31m---------------------------------------------------------------------------\u001b[0m",
      "\u001b[0;31mValueError\u001b[0m                                Traceback (most recent call last)",
      "Cell \u001b[0;32mIn[21], line 1\u001b[0m\n\u001b[0;32m----> 1\u001b[0m \u001b[38;5;28;01mfor\u001b[39;00m value \u001b[38;5;129;01min\u001b[39;00m \u001b[38;5;28mrange\u001b[39m ( \u001b[38;5;241m1\u001b[39m, \u001b[38;5;241m100\u001b[39m,\u001b[38;5;241m000\u001b[39m): \u001b[38;5;28mprint\u001b[39m (value)\n",
      "\u001b[0;31mValueError\u001b[0m: range() arg 3 must not be zero"
     ]
    }
   ],
   "source": [
    "for value in range ( 1, 100,000): print (value)"
   ]
  },
  {
   "cell_type": "code",
   "execution_count": null,
   "id": "9fb64721",
   "metadata": {},
   "outputs": [],
   "source": []
  }
 ],
 "metadata": {
  "kernelspec": {
   "display_name": "Python 3 (ipykernel)",
   "language": "python",
   "name": "python3"
  },
  "language_info": {
   "codemirror_mode": {
    "name": "ipython",
    "version": 3
   },
   "file_extension": ".py",
   "mimetype": "text/x-python",
   "name": "python",
   "nbconvert_exporter": "python",
   "pygments_lexer": "ipython3",
   "version": "3.11.4"
  }
 },
 "nbformat": 4,
 "nbformat_minor": 5
}
