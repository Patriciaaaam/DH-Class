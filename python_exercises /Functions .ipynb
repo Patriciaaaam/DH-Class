{
 "cells": [
  {
   "cell_type": "markdown",
   "id": "53cd285a",
   "metadata": {},
   "source": [
    "# Functions"
   ]
  },
  {
   "cell_type": "code",
   "execution_count": 1,
   "id": "bfef9054",
   "metadata": {},
   "outputs": [],
   "source": [
    "# basic example\n",
    "def say_hello():\n",
    "    \"\"\"Display a greeting\"\"\"\n",
    "    print(\"Hello.\")"
   ]
  },
  {
   "cell_type": "code",
   "execution_count": 2,
   "id": "97f8f6c6",
   "metadata": {},
   "outputs": [
    {
     "name": "stdout",
     "output_type": "stream",
     "text": [
      "Hello.\n"
     ]
    }
   ],
   "source": [
    "say_hello()"
   ]
  },
  {
   "cell_type": "code",
   "execution_count": 4,
   "id": "2cc2b04a",
   "metadata": {},
   "outputs": [],
   "source": [
    "def say_hello_name(name):\n",
    "    \"\"\"Greet by name\"\"\"\n",
    "    print(f\"Hello, {name}!\")\n"
   ]
  },
  {
   "cell_type": "code",
   "execution_count": 9,
   "id": "4537f2a7",
   "metadata": {},
   "outputs": [
    {
     "name": "stdout",
     "output_type": "stream",
     "text": [
      "Hello, Patricia!\n"
     ]
    }
   ],
   "source": [
    "say_hello_name('Patricia')"
   ]
  },
  {
   "cell_type": "code",
   "execution_count": 10,
   "id": "ae6924f0",
   "metadata": {},
   "outputs": [],
   "source": [
    "names= [\"Assha\", \"Alondra\", \"Giselle\"]"
   ]
  },
  {
   "cell_type": "code",
   "execution_count": 11,
   "id": "e091f6dd",
   "metadata": {},
   "outputs": [
    {
     "name": "stdout",
     "output_type": "stream",
     "text": [
      "Hello, Assha!\n",
      "Hello, Alondra!\n",
      "Hello, Giselle!\n"
     ]
    }
   ],
   "source": [
    "for name in names:\n",
    "    say_hello_name(name)"
   ]
  },
  {
   "cell_type": "code",
   "execution_count": 17,
   "id": "3bbb9af9",
   "metadata": {},
   "outputs": [],
   "source": [
    "def describe_artist(name,genre):\n",
    "    '''Describe an artist by genre'''\n",
    "    print(f\"{name.title()} raps {genre}. \")"
   ]
  },
  {
   "cell_type": "code",
   "execution_count": 18,
   "id": "c7a8365f",
   "metadata": {},
   "outputs": [
    {
     "name": "stdout",
     "output_type": "stream",
     "text": [
      "J.Cole raps rap music. \n"
     ]
    }
   ],
   "source": [
    "describe_artist(\"J.cole\", \"rap music\")"
   ]
  },
  {
   "cell_type": "code",
   "execution_count": 20,
   "id": "8a20e673",
   "metadata": {},
   "outputs": [],
   "source": [
    "def describe_author(name,genre):\n",
    "    '''Describe an author by genre'''\n",
    "    print(f\"{name.title()} writes {genre}.\")"
   ]
  },
  {
   "cell_type": "code",
   "execution_count": 21,
   "id": "7b74af0e",
   "metadata": {},
   "outputs": [
    {
     "name": "stdout",
     "output_type": "stream",
     "text": [
      "Angie Thomas writes Realistic Fiction.\n"
     ]
    }
   ],
   "source": [
    "describe_author(\"Angie Thomas\", \"Realistic Fiction\")"
   ]
  },
  {
   "cell_type": "code",
   "execution_count": 22,
   "id": "c5b65312",
   "metadata": {},
   "outputs": [],
   "source": [
    "def format(first_name, last_name):\n",
    "    full_name = f\" {first_name.title()} {last_name.title()} \"\n",
    "    return full_name\n"
   ]
  },
  {
   "cell_type": "code",
   "execution_count": 25,
   "id": "b17f160a",
   "metadata": {},
   "outputs": [],
   "source": [
    "philosopher = format(first_name = \"friedrich\" , last_name = \"nietzsche\")"
   ]
  },
  {
   "cell_type": "code",
   "execution_count": 26,
   "id": "ea98aa73",
   "metadata": {},
   "outputs": [
    {
     "data": {
      "text/plain": [
       "' Friedrich Nietzsche '"
      ]
     },
     "execution_count": 26,
     "metadata": {},
     "output_type": "execute_result"
    }
   ],
   "source": [
    "philosopher"
   ]
  },
  {
   "cell_type": "markdown",
   "id": "39cf6fb9",
   "metadata": {},
   "source": [
    "# Functions Challenge\n"
   ]
  },
  {
   "cell_type": "code",
   "execution_count": null,
   "id": "419c270a",
   "metadata": {},
   "outputs": [],
   "source": []
  }
 ],
 "metadata": {
  "kernelspec": {
   "display_name": "Python 3 (ipykernel)",
   "language": "python",
   "name": "python3"
  },
  "language_info": {
   "codemirror_mode": {
    "name": "ipython",
    "version": 3
   },
   "file_extension": ".py",
   "mimetype": "text/x-python",
   "name": "python",
   "nbconvert_exporter": "python",
   "pygments_lexer": "ipython3",
   "version": "3.11.4"
  }
 },
 "nbformat": 4,
 "nbformat_minor": 5
}
