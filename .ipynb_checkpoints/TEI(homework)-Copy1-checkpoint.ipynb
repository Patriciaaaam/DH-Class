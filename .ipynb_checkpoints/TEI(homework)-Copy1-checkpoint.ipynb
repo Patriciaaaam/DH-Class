{
 "cells": [
  {
   "cell_type": "markdown",
   "metadata": {
    "id": "VbIn_1X8qeYs"
   },
   "source": [
    "# Parsing a TEI Document - Homework"
   ]
  },
  {
   "cell_type": "markdown",
   "metadata": {
    "id": "nY5ryOZ4qxFv"
   },
   "source": [
    "## Directions\n",
    "\n",
    "Parse the tei of Gibbon's _Decline and Fall_ to extract all the **marginal notes**. (XML file provided)\n",
    "1. Extract all marginal notes\n",
    "2. Remove extraneous whitespace\n",
    "3. Place marginal notes in a dataframe\n",
    "4. Save teh dataframe as a csv file\n"
   ]
  },
  {
   "cell_type": "markdown",
   "metadata": {
    "id": "NbEOJNWP09gl"
   },
   "source": [
    "## Hint\n",
    "\n",
    "Here is a snippet of what a marginal note in the xml document looks like:\n",
    "\n",
    "`<note place=\"margin\">A. D. 268. March 20. Death of Gallienus.</note>`\n",
    "\n",
    "These are different from the footnotes that we saw in class in that (a) they do not have numbers and (b) the white space is different. You are free to accomodate for that however you would like."
   ]
  },
  {
   "cell_type": "markdown",
   "metadata": {
    "id": "ZqVqsq7Tv0ck"
   },
   "source": [
    "### Set up"
   ]
  },
  {
   "cell_type": "code",
   "execution_count": 36,
   "metadata": {
    "id": "ax5j3yg4rUfB"
   },
   "outputs": [],
   "source": [
    "# ! pip install beatifulsoup4"
   ]
  },
  {
   "cell_type": "code",
   "execution_count": 37,
   "metadata": {
    "id": "B2P2mAYSqRbQ"
   },
   "outputs": [],
   "source": [
    "from bs4 import BeautifulSoup\n",
    "import requests\n",
    "import pandas as pd"
   ]
  },
  {
   "cell_type": "code",
   "execution_count": 38,
   "metadata": {
    "id": "pVItKZ2GrBur"
   },
   "outputs": [],
   "source": [
    "# load xml file\n",
    "url = \"https://raw.githubusercontent.com/msaxton/nlp-data/main/gibbon.xml\"\n",
    "response = requests.get(url)\n",
    "xml_file = response.text"
   ]
  },
  {
   "cell_type": "markdown",
   "metadata": {
    "id": "hVe0pze-v36X"
   },
   "source": [
    "### Parse TEI"
   ]
  },
  {
   "cell_type": "code",
   "execution_count": 39,
   "metadata": {
    "id": "UzS5qa_Y96h2"
   },
   "outputs": [],
   "source": [
    "# use BeautifulSoup to creat an xml object\n",
    "xml = BeautifulSoup(xml_file)"
   ]
  },
  {
   "cell_type": "code",
   "execution_count": 40,
   "metadata": {
    "id": "R6EMEBs5-dUn"
   },
   "outputs": [],
   "source": [
    "# find all footnotes\n",
    "footnotes = xml.find_all( 'note', attrs = {'place': 'bottom'})"
   ]
  },
  {
   "cell_type": "code",
   "execution_count": 42,
   "metadata": {
    "id": "eMr8NOYtrADL"
   },
   "outputs": [],
   "source": [
    "# remove extra space (if needed)\n",
    "def remove_extra_space(text):\n",
    "    text = text.replace(\"\\n\", \" \")\n",
    "    text = text.replace(\"  \", \" \")\n",
    "    return text"
   ]
  },
  {
   "cell_type": "code",
   "execution_count": 43,
   "metadata": {
    "id": "wK7f7hBmsZdl"
   },
   "outputs": [],
   "source": [
    "# prepare data for dataframe\n",
    "notes = []\n",
    "i = 1\n",
    "for footnote in footnotes:\n",
    "    d = {}\n",
    "    footnote_num = f'footnote {str(i)}'\n",
    "    footnote_text = remove_extra_space(footnote.text)\n",
    "    d['number'] = footnote_num\n",
    "    d['text'] = footnote_text\n",
    "    notes.append(d)\n",
    "    i += 1"
   ]
  },
  {
   "cell_type": "code",
   "execution_count": 44,
   "metadata": {
    "id": "OM4Ds7xluW4v"
   },
   "outputs": [],
   "source": [
    "# convert to dataframe\n",
    "xml_df=pd.DataFrame.from_dict(notes)"
   ]
  },
  {
   "cell_type": "code",
   "execution_count": 45,
   "metadata": {},
   "outputs": [
    {
     "data": {
      "text/plain": [
       "<bound method NDFrame.head of            number                                               text\n",
       "0      footnote 1   Pons Aureoli,             thirteen miles from...\n",
       "1      footnote 2               On the death of Gallienus, ſee Tr...\n",
       "2      footnote 3               Some ſuppoſed him, oddly enough, ...\n",
       "3      footnote 4   Notoria,               a periodical and offic...\n",
       "4      footnote 5  Hiſt. Auguſt. p. 208. Gallienus deſcribes the ...\n",
       "..            ...                                                ...\n",
       "823  footnote 824               Euſebius de Martyr. Paleſtin. c. ...\n",
       "824  footnote 825               When Paleſtine was divided into t...\n",
       "825  footnote 826  Ut gloriari poſſint nullum ſe innocentium pere...\n",
       "826  footnote 827  Grot. Annal. de Rebus Belgicis, l. i. p. 12. E...\n",
       "827  footnote 828  Fra-Paolo (Iſtoria del Concilio Tridentino, l....\n",
       "\n",
       "[828 rows x 2 columns]>"
      ]
     },
     "execution_count": 45,
     "metadata": {},
     "output_type": "execute_result"
    }
   ],
   "source": [
    "xml_df.head"
   ]
  },
  {
   "cell_type": "code",
   "execution_count": 46,
   "metadata": {
    "id": "FSI4PUQzujoQ"
   },
   "outputs": [],
   "source": [
    "# save dataframe as csv\n",
    "file_name = \"gibbondataframe.csv\""
   ]
  },
  {
   "cell_type": "code",
   "execution_count": null,
   "metadata": {},
   "outputs": [],
   "source": []
  }
 ],
 "metadata": {
  "colab": {
   "provenance": []
  },
  "kernelspec": {
   "display_name": "Python 3 (ipykernel)",
   "language": "python",
   "name": "python3"
  },
  "language_info": {
   "codemirror_mode": {
    "name": "ipython",
    "version": 3
   },
   "file_extension": ".py",
   "mimetype": "text/x-python",
   "name": "python",
   "nbconvert_exporter": "python",
   "pygments_lexer": "ipython3",
   "version": "3.11.5"
  }
 },
 "nbformat": 4,
 "nbformat_minor": 1
}
