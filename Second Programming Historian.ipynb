{
 "cells": [
  {
   "cell_type": "code",
   "execution_count": 4,
   "id": "75de27f4",
   "metadata": {},
   "outputs": [
    {
     "name": "stdout",
     "output_type": "stream",
     "text": [
      "Requirement already satisfied: plotly in /Users/patriciam/miniconda3/lib/python3.11/site-packages (5.18.0)\n",
      "Requirement already satisfied: tenacity>=6.2.0 in /Users/patriciam/miniconda3/lib/python3.11/site-packages (from plotly) (8.2.3)\n",
      "Requirement already satisfied: packaging in /Users/patriciam/miniconda3/lib/python3.11/site-packages (from plotly) (23.1)\n",
      "\n",
      "\u001b[1m[\u001b[0m\u001b[34;49mnotice\u001b[0m\u001b[1;39;49m]\u001b[0m\u001b[39;49m A new release of pip is available: \u001b[0m\u001b[31;49m23.3\u001b[0m\u001b[39;49m -> \u001b[0m\u001b[32;49m23.3.1\u001b[0m\n",
      "\u001b[1m[\u001b[0m\u001b[34;49mnotice\u001b[0m\u001b[1;39;49m]\u001b[0m\u001b[39;49m To update, run: \u001b[0m\u001b[32;49mpip install --upgrade pip\u001b[0m\n"
     ]
    }
   ],
   "source": [
    "! pip install plotly"
   ]
  },
  {
   "cell_type": "code",
   "execution_count": 5,
   "id": "bd1daa4b",
   "metadata": {},
   "outputs": [],
   "source": [
    "import spacy\n",
    "from spacy import displacy\n",
    "\n",
    "import pandas as pd\n",
    "\n",
    "import plotly.graph_objects as go\n",
    "import plotly.express as px"
   ]
  },
  {
   "cell_type": "code",
   "execution_count": 6,
   "id": "3bf10378",
   "metadata": {},
   "outputs": [],
   "source": [
    "import files_text\n",
    "import os"
   ]
  },
  {
   "cell_type": "code",
   "execution_count": 9,
   "id": "ad106003",
   "metadata": {},
   "outputs": [
    {
     "name": "stdout",
     "output_type": "stream",
     "text": [
      "['ENG.G0.01.2.txt', 'ENG.G0.27.1.txt', 'BIO.G1.08.2.txt', 'ENG.G0.18.3.txt', 'BIO.G0.13.1.txt', 'BIO.G0.11.3.txt', 'BIO.G0.11.2.txt', 'BIO.G2.05.1.txt', 'ENG.G0.18.2.txt', 'ENG.G1.03.1.txt', 'ENG.G0.46.1.txt', 'ENG.G0.03.1.txt', 'ENG.G1.01.1.txt', 'ENG.G0.44.1.txt', 'ENG.G0.01.1.txt', 'BIO.G0.08.1.txt', 'BIO.G1.08.1.txt', 'BIO.G2.07.1.txt', 'BIO.G0.11.1.txt', 'BIO.G2.05.2.txt', 'ENG.G0.18.1.txt', 'ENG.G0.03.2.txt', 'ENG.G0.25.1.txt', 'BIO.G0.15.1.txt', 'BIO.G0.28.1.txt', 'ENG.G0.42.2.txt', 'ENG.G0.21.1.txt', 'ENG.G1.05.1.txt', 'ENG.G0.40.1.txt', 'ENG.G0.05.1.txt', 'ENG.G0.18.4.txt', 'ENG.G0.38.1.txt', 'BIO.G0.31.1.txt', 'BIO.G2.03.1.txt', 'BIO.G3.03.1.txt', 'BIO.G2.01.1.txt', 'BIO.G3.01.1.txt', 'ENG.G0.38.3.txt', 'ENG.G1.07.1.txt', 'ENG.G0.42.1.txt', 'ENG.G0.07.1.txt', 'ENG.G0.23.1.txt', 'ENG.G0.38.2.txt', 'BIO.G0.17.1.txt', 'BIO.G2.06.1.txt', 'BIO.G0.12.2.txt', 'BIO.G0.09.1.txt', 'ENG.G0.26.2.txt', 'ENG.G0.45.1.txt', 'ENG.G0.24.1.txt', 'ENG.G0.19.1.txt', 'BIO.G0.10.1.txt', 'BIO.G0.12.1.txt', 'ENG.G0.26.1.txt', 'ENG.G1.02.1.txt', 'ENG.G0.02.1.txt', 'ENG.G0.47.1.txt', 'ENG.G0.19.2.txt', 'BIO.G0.10.2.txt', 'BIO.G2.04.1.txt', 'ENG.G1.06.1.txt', 'ENG.G0.06.1.txt', 'ENG.G0.43.1.txt', 'ENG.G0.41.3.txt', 'BIO.G0.32.1.txt', 'BIO.G0.16.1.txt', 'ENG.G0.39.2.txt', 'ENG.G0.41.2.txt', 'ENG.G0.22.1.txt', 'ENG.G0.43.2.txt', 'ENG.G0.06.2.txt', 'ENG.G0.20.1.txt', 'BIO.G0.29.1.txt', 'BIO.G0.14.1.txt', 'ENG.G0.58.1.txt', 'BIO.G0.30.1.txt', 'BIO.G2.02.1.txt', 'BIO.G3.02.1.txt', 'ENG.G1.04.1.txt', 'ENG.G0.22.2.txt', 'ENG.G0.04.1.txt', 'ENG.G0.41.1.txt', 'ENG.G0.06.3.txt', 'BIO.G0.03.3.txt', 'BIO.G1.01.1.txt', 'BIO.G0.01.1.txt', 'ENG.G2.07.1.txt', 'ENG.G0.35.1.txt', 'ENG.G0.13.2.txt', 'BIO.G0.18.1.txt', 'ENG.G0.54.1.txt', 'ENG.G0.11.1.txt', 'BIO.G0.03.2.txt', 'BIO.G0.25.1.txt', 'BIO.G0.27.1.txt', 'ENG.G0.13.1.txt', 'ENG.G0.35.2.txt', 'ENG.G0.37.1.txt', 'ENG.G2.05.1.txt', 'BIO.G1.03.1.txt', 'BIO.G0.03.1.txt', 'ENG.G2.01.1.txt', 'ENG.G0.33.1.txt', 'ENG.G0.49.3.txt', 'BIO.G1.07.1.txt', 'BIO.G0.07.1.txt', 'BIO.G0.23.1.txt', 'ENG.G0.49.2.txt', 'ENG.G0.52.1.txt', 'ENG.G0.17.1.txt', 'ENG.G0.31.2.txt', 'ENG.G0.50.1.txt', 'ENG.G0.15.1.txt', 'BIO.G0.07.2.txt', 'BIO.G0.21.1.txt', 'ENG.G0.28.1.txt', 'BIO.G1.05.1.txt', 'BIO.G0.05.1.txt', 'BIO.G0.07.3.txt', 'ENG.G0.49.1.txt', 'ENG.G0.31.1.txt', 'ENG.G0.17.2.txt', 'ENG.G2.03.1.txt', 'ENG.G3.03.1.txt', 'ENG.G0.12.1.txt', 'ENG.G0.57.1.txt', 'ENG.G0.34.2.txt', 'BIO.G0.26.1.txt', 'ENG.G0.09.2.txt', 'BIO.G1.02.1.txt', 'BIO.G0.02.1.txt', 'ENG.G0.36.1.txt', 'ENG.G0.55.2.txt', 'ENG.G2.04.1.txt', 'ENG.G3.04.1.txt', 'ENG.G0.34.3.txt', 'ENG.G2.06.1.txt', 'ENG.G0.34.1.txt', 'BIO.G0.02.3.txt', 'BIO.G0.02.2.txt', 'BIO.G0.24.1.txt', 'ENG.G0.10.1.txt', 'ENG.G0.55.1.txt', 'BIO.G0.19.1.txt', 'ENG.G0.29.1.txt', 'BIO.G0.20.1.txt', 'ENG.G0.14.1.txt', 'ENG.G0.51.1.txt', 'BIO.G0.02.6.txt', 'ENG.G0.30.1.txt', 'ENG.G2.02.1.txt', 'ENG.G0.48.1.txt', 'BIO.G1.04.1.txt', 'BIO.G0.04.1.txt', 'BIO.G0.04.3.txt', 'BIO.G1.06.1.txt', 'BIO.G0.06.1.txt', 'ENG.G0.32.1.txt', 'BIO.G0.02.5.txt', 'BIO.G0.02.4.txt', 'ENG.G0.16.1.txt', 'ENG.G0.53.1.txt', 'ENG.G2.02.2.txt', 'BIO.G0.04.2.txt', 'BIO.G0.22.1.txt']\n"
     ]
    }
   ],
   "source": [
    "path = \"DH-CLASS\"\n",
    "folder = 'files_text'\n",
    "uploaded_files = os.listdir(folder)\n",
    "print(uploaded_files)"
   ]
  },
  {
   "cell_type": "code",
   "execution_count": null,
   "id": "78e273c7",
   "metadata": {},
   "outputs": [],
   "source": [
    "paper_df = "
   ]
  }
 ],
 "metadata": {
  "kernelspec": {
   "display_name": "Python 3 (ipykernel)",
   "language": "python",
   "name": "python3"
  },
  "language_info": {
   "codemirror_mode": {
    "name": "ipython",
    "version": 3
   },
   "file_extension": ".py",
   "mimetype": "text/x-python",
   "name": "python",
   "nbconvert_exporter": "python",
   "pygments_lexer": "ipython3",
   "version": "3.11.5"
  }
 },
 "nbformat": 4,
 "nbformat_minor": 5
}
